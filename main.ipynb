{
 "cells": [
  {
   "cell_type": "markdown",
   "id": "423fe75d-9e19-4482-8511-9bd9c52c2e65",
   "metadata": {
    "jp-MarkdownHeadingCollapsed": true
   },
   "source": [
    "#### Import"
   ]
  },
  {
   "cell_type": "code",
   "execution_count": 1,
   "id": "f57e1452-8cc0-48e9-bb85-3ae9b2b93fa8",
   "metadata": {},
   "outputs": [],
   "source": [
    "import numpy as np\n",
    "import pandas as pd\n",
    "import matplotlib.pyplot as plt\n",
    "import seaborn as sns\n",
    "\n",
    "from sklearn.preprocessing import StandardScaler"
   ]
  },
  {
   "cell_type": "code",
   "execution_count": 2,
   "id": "48c66b6b-8840-4dc0-8cf5-9a91b34de09d",
   "metadata": {},
   "outputs": [
    {
     "name": "stderr",
     "output_type": "stream",
     "text": [
      "/home/gin/anaconda3/envs/env0/lib/python3.11/site-packages/tqdm/auto.py:21: TqdmWarning: IProgress not found. Please update jupyter and ipywidgets. See https://ipywidgets.readthedocs.io/en/stable/user_install.html\n",
      "  from .autonotebook import tqdm as notebook_tqdm\n"
     ]
    }
   ],
   "source": [
    "import torch\n",
    "from torch import Tensor\n",
    "from torch import nn\n",
    "from torch import optim\n",
    "import torch.nn.functional as F\n",
    "from torch.utils.data import Dataset, DataLoader, ConcatDataset\n",
    "import optuna"
   ]
  },
  {
   "cell_type": "code",
   "execution_count": 3,
   "id": "b73e2c5c-3b40-46f8-b9e4-65a8ad3db6b3",
   "metadata": {},
   "outputs": [],
   "source": [
    "from torchmetrics import MetricCollection, AUROC, Recall, Precision, F1Score, Accuracy"
   ]
  },
  {
   "cell_type": "code",
   "execution_count": 4,
   "id": "e13af564-9520-422b-a10b-3f0e935c25b0",
   "metadata": {},
   "outputs": [],
   "source": [
    "import gc\n",
    "import tqdm\n",
    "import random\n",
    "import pickle\n",
    "import joblib"
   ]
  },
  {
   "cell_type": "code",
   "execution_count": 5,
   "id": "abf3338e-f806-40cb-b7e3-c9e7bc29690e",
   "metadata": {},
   "outputs": [],
   "source": [
    "from sklearn.model_selection import train_test_split\n",
    "from sklearn.compose import ColumnTransformer\n",
    "from sklearn.preprocessing import StandardScaler, FunctionTransformer, OrdinalEncoder\n",
    "from sklearn.preprocessing import OneHotEncoder, TargetEncoder, LabelEncoder\n",
    "from sklearn.pipeline import make_pipeline\n",
    "from sklearn.metrics import roc_auc_score\n",
    "from sklearn.model_selection import cross_validate\n",
    "# from scikeras.wrappers import KerasClassifier"
   ]
  },
  {
   "cell_type": "code",
   "execution_count": 6,
   "id": "63dc3b4a-3f53-45bd-8fe7-33a269229633",
   "metadata": {},
   "outputs": [],
   "source": [
    "SEED = 13\n",
    "random.seed(SEED)\n",
    "torch.manual_seed(SEED)\n",
    "np.random.seed(SEED)\n",
    "\n",
    "DEVICE = torch.device('cuda' if torch.cuda.is_available() else 'cpu')\n",
    "PATH = './'\n",
    "EVAL_SIZE = 0.05\n",
    "pd.set_option('display.max_rows', 500)\n",
    "pd.set_option('display.max_columns', 500)"
   ]
  },
  {
   "cell_type": "code",
   "execution_count": 7,
   "id": "d2d487b9-943e-42da-97f0-ec06fb3ae521",
   "metadata": {},
   "outputs": [],
   "source": [
    "df_train = pd.read_csv('train.csv', index_col='id')\n",
    "df_test = pd.read_csv('test.csv', index_col='id')"
   ]
  },
  {
   "cell_type": "code",
   "execution_count": 8,
   "id": "011bde95-b99b-4351-bcb0-eada28abc5fe",
   "metadata": {},
   "outputs": [
    {
     "data": {
      "text/html": [
       "<div>\n",
       "<style scoped>\n",
       "    .dataframe tbody tr th:only-of-type {\n",
       "        vertical-align: middle;\n",
       "    }\n",
       "\n",
       "    .dataframe tbody tr th {\n",
       "        vertical-align: top;\n",
       "    }\n",
       "\n",
       "    .dataframe thead th {\n",
       "        text-align: right;\n",
       "    }\n",
       "</style>\n",
       "<table border=\"1\" class=\"dataframe\">\n",
       "  <thead>\n",
       "    <tr style=\"text-align: right;\">\n",
       "      <th></th>\n",
       "      <th>Gender</th>\n",
       "      <th>Age</th>\n",
       "      <th>Driving_License</th>\n",
       "      <th>Region_Code</th>\n",
       "      <th>Previously_Insured</th>\n",
       "      <th>Vehicle_Age</th>\n",
       "      <th>Vehicle_Damage</th>\n",
       "      <th>Annual_Premium</th>\n",
       "      <th>Policy_Sales_Channel</th>\n",
       "      <th>Vintage</th>\n",
       "      <th>Response</th>\n",
       "    </tr>\n",
       "    <tr>\n",
       "      <th>id</th>\n",
       "      <th></th>\n",
       "      <th></th>\n",
       "      <th></th>\n",
       "      <th></th>\n",
       "      <th></th>\n",
       "      <th></th>\n",
       "      <th></th>\n",
       "      <th></th>\n",
       "      <th></th>\n",
       "      <th></th>\n",
       "      <th></th>\n",
       "    </tr>\n",
       "  </thead>\n",
       "  <tbody>\n",
       "    <tr>\n",
       "      <th>0</th>\n",
       "      <td>Male</td>\n",
       "      <td>21</td>\n",
       "      <td>1</td>\n",
       "      <td>35.0</td>\n",
       "      <td>0</td>\n",
       "      <td>1-2 Year</td>\n",
       "      <td>Yes</td>\n",
       "      <td>65101.0</td>\n",
       "      <td>124.0</td>\n",
       "      <td>187</td>\n",
       "      <td>0</td>\n",
       "    </tr>\n",
       "    <tr>\n",
       "      <th>1</th>\n",
       "      <td>Male</td>\n",
       "      <td>43</td>\n",
       "      <td>1</td>\n",
       "      <td>28.0</td>\n",
       "      <td>0</td>\n",
       "      <td>&gt; 2 Years</td>\n",
       "      <td>Yes</td>\n",
       "      <td>58911.0</td>\n",
       "      <td>26.0</td>\n",
       "      <td>288</td>\n",
       "      <td>1</td>\n",
       "    </tr>\n",
       "    <tr>\n",
       "      <th>2</th>\n",
       "      <td>Female</td>\n",
       "      <td>25</td>\n",
       "      <td>1</td>\n",
       "      <td>14.0</td>\n",
       "      <td>1</td>\n",
       "      <td>&lt; 1 Year</td>\n",
       "      <td>No</td>\n",
       "      <td>38043.0</td>\n",
       "      <td>152.0</td>\n",
       "      <td>254</td>\n",
       "      <td>0</td>\n",
       "    </tr>\n",
       "    <tr>\n",
       "      <th>3</th>\n",
       "      <td>Female</td>\n",
       "      <td>35</td>\n",
       "      <td>1</td>\n",
       "      <td>1.0</td>\n",
       "      <td>0</td>\n",
       "      <td>1-2 Year</td>\n",
       "      <td>Yes</td>\n",
       "      <td>2630.0</td>\n",
       "      <td>156.0</td>\n",
       "      <td>76</td>\n",
       "      <td>0</td>\n",
       "    </tr>\n",
       "    <tr>\n",
       "      <th>4</th>\n",
       "      <td>Female</td>\n",
       "      <td>36</td>\n",
       "      <td>1</td>\n",
       "      <td>15.0</td>\n",
       "      <td>1</td>\n",
       "      <td>1-2 Year</td>\n",
       "      <td>No</td>\n",
       "      <td>31951.0</td>\n",
       "      <td>152.0</td>\n",
       "      <td>294</td>\n",
       "      <td>0</td>\n",
       "    </tr>\n",
       "  </tbody>\n",
       "</table>\n",
       "</div>"
      ],
      "text/plain": [
       "    Gender  Age  Driving_License  Region_Code  Previously_Insured Vehicle_Age  \\\n",
       "id                                                                              \n",
       "0     Male   21                1         35.0                   0    1-2 Year   \n",
       "1     Male   43                1         28.0                   0   > 2 Years   \n",
       "2   Female   25                1         14.0                   1    < 1 Year   \n",
       "3   Female   35                1          1.0                   0    1-2 Year   \n",
       "4   Female   36                1         15.0                   1    1-2 Year   \n",
       "\n",
       "   Vehicle_Damage  Annual_Premium  Policy_Sales_Channel  Vintage  Response  \n",
       "id                                                                          \n",
       "0             Yes         65101.0                 124.0      187         0  \n",
       "1             Yes         58911.0                  26.0      288         1  \n",
       "2              No         38043.0                 152.0      254         0  \n",
       "3             Yes          2630.0                 156.0       76         0  \n",
       "4              No         31951.0                 152.0      294         0  "
      ]
     },
     "metadata": {},
     "output_type": "display_data"
    },
    {
     "name": "stdout",
     "output_type": "stream",
     "text": [
      "<class 'pandas.core.frame.DataFrame'>\n",
      "Int64Index: 11504798 entries, 0 to 11504797\n",
      "Data columns (total 11 columns):\n",
      " #   Column                Dtype  \n",
      "---  ------                -----  \n",
      " 0   Gender                object \n",
      " 1   Age                   int64  \n",
      " 2   Driving_License       int64  \n",
      " 3   Region_Code           float64\n",
      " 4   Previously_Insured    int64  \n",
      " 5   Vehicle_Age           object \n",
      " 6   Vehicle_Damage        object \n",
      " 7   Annual_Premium        float64\n",
      " 8   Policy_Sales_Channel  float64\n",
      " 9   Vintage               int64  \n",
      " 10  Response              int64  \n",
      "dtypes: float64(3), int64(5), object(3)\n",
      "memory usage: 1.0+ GB\n"
     ]
    },
    {
     "data": {
      "text/plain": [
       "None"
      ]
     },
     "metadata": {},
     "output_type": "display_data"
    },
    {
     "data": {
      "text/html": [
       "<div>\n",
       "<style scoped>\n",
       "    .dataframe tbody tr th:only-of-type {\n",
       "        vertical-align: middle;\n",
       "    }\n",
       "\n",
       "    .dataframe tbody tr th {\n",
       "        vertical-align: top;\n",
       "    }\n",
       "\n",
       "    .dataframe thead th {\n",
       "        text-align: right;\n",
       "    }\n",
       "</style>\n",
       "<table border=\"1\" class=\"dataframe\">\n",
       "  <thead>\n",
       "    <tr style=\"text-align: right;\">\n",
       "      <th></th>\n",
       "      <th>Age</th>\n",
       "      <th>Driving_License</th>\n",
       "      <th>Region_Code</th>\n",
       "      <th>Previously_Insured</th>\n",
       "      <th>Annual_Premium</th>\n",
       "      <th>Policy_Sales_Channel</th>\n",
       "      <th>Vintage</th>\n",
       "      <th>Response</th>\n",
       "    </tr>\n",
       "  </thead>\n",
       "  <tbody>\n",
       "    <tr>\n",
       "      <th>count</th>\n",
       "      <td>1.150480e+07</td>\n",
       "      <td>1.150480e+07</td>\n",
       "      <td>1.150480e+07</td>\n",
       "      <td>1.150480e+07</td>\n",
       "      <td>1.150480e+07</td>\n",
       "      <td>1.150480e+07</td>\n",
       "      <td>1.150480e+07</td>\n",
       "      <td>1.150480e+07</td>\n",
       "    </tr>\n",
       "    <tr>\n",
       "      <th>mean</th>\n",
       "      <td>3.838356e+01</td>\n",
       "      <td>9.980220e-01</td>\n",
       "      <td>2.641869e+01</td>\n",
       "      <td>4.629966e-01</td>\n",
       "      <td>3.046137e+04</td>\n",
       "      <td>1.124254e+02</td>\n",
       "      <td>1.638977e+02</td>\n",
       "      <td>1.229973e-01</td>\n",
       "    </tr>\n",
       "    <tr>\n",
       "      <th>std</th>\n",
       "      <td>1.499346e+01</td>\n",
       "      <td>4.443120e-02</td>\n",
       "      <td>1.299159e+01</td>\n",
       "      <td>4.986289e-01</td>\n",
       "      <td>1.645475e+04</td>\n",
       "      <td>5.403571e+01</td>\n",
       "      <td>7.997953e+01</td>\n",
       "      <td>3.284341e-01</td>\n",
       "    </tr>\n",
       "    <tr>\n",
       "      <th>min</th>\n",
       "      <td>2.000000e+01</td>\n",
       "      <td>0.000000e+00</td>\n",
       "      <td>0.000000e+00</td>\n",
       "      <td>0.000000e+00</td>\n",
       "      <td>2.630000e+03</td>\n",
       "      <td>1.000000e+00</td>\n",
       "      <td>1.000000e+01</td>\n",
       "      <td>0.000000e+00</td>\n",
       "    </tr>\n",
       "    <tr>\n",
       "      <th>25%</th>\n",
       "      <td>2.400000e+01</td>\n",
       "      <td>1.000000e+00</td>\n",
       "      <td>1.500000e+01</td>\n",
       "      <td>0.000000e+00</td>\n",
       "      <td>2.527700e+04</td>\n",
       "      <td>2.900000e+01</td>\n",
       "      <td>9.900000e+01</td>\n",
       "      <td>0.000000e+00</td>\n",
       "    </tr>\n",
       "    <tr>\n",
       "      <th>50%</th>\n",
       "      <td>3.600000e+01</td>\n",
       "      <td>1.000000e+00</td>\n",
       "      <td>2.800000e+01</td>\n",
       "      <td>0.000000e+00</td>\n",
       "      <td>3.182400e+04</td>\n",
       "      <td>1.510000e+02</td>\n",
       "      <td>1.660000e+02</td>\n",
       "      <td>0.000000e+00</td>\n",
       "    </tr>\n",
       "    <tr>\n",
       "      <th>75%</th>\n",
       "      <td>4.900000e+01</td>\n",
       "      <td>1.000000e+00</td>\n",
       "      <td>3.500000e+01</td>\n",
       "      <td>1.000000e+00</td>\n",
       "      <td>3.945100e+04</td>\n",
       "      <td>1.520000e+02</td>\n",
       "      <td>2.320000e+02</td>\n",
       "      <td>0.000000e+00</td>\n",
       "    </tr>\n",
       "    <tr>\n",
       "      <th>max</th>\n",
       "      <td>8.500000e+01</td>\n",
       "      <td>1.000000e+00</td>\n",
       "      <td>5.200000e+01</td>\n",
       "      <td>1.000000e+00</td>\n",
       "      <td>5.401650e+05</td>\n",
       "      <td>1.630000e+02</td>\n",
       "      <td>2.990000e+02</td>\n",
       "      <td>1.000000e+00</td>\n",
       "    </tr>\n",
       "  </tbody>\n",
       "</table>\n",
       "</div>"
      ],
      "text/plain": [
       "                Age  Driving_License   Region_Code  Previously_Insured  \\\n",
       "count  1.150480e+07     1.150480e+07  1.150480e+07        1.150480e+07   \n",
       "mean   3.838356e+01     9.980220e-01  2.641869e+01        4.629966e-01   \n",
       "std    1.499346e+01     4.443120e-02  1.299159e+01        4.986289e-01   \n",
       "min    2.000000e+01     0.000000e+00  0.000000e+00        0.000000e+00   \n",
       "25%    2.400000e+01     1.000000e+00  1.500000e+01        0.000000e+00   \n",
       "50%    3.600000e+01     1.000000e+00  2.800000e+01        0.000000e+00   \n",
       "75%    4.900000e+01     1.000000e+00  3.500000e+01        1.000000e+00   \n",
       "max    8.500000e+01     1.000000e+00  5.200000e+01        1.000000e+00   \n",
       "\n",
       "       Annual_Premium  Policy_Sales_Channel       Vintage      Response  \n",
       "count    1.150480e+07          1.150480e+07  1.150480e+07  1.150480e+07  \n",
       "mean     3.046137e+04          1.124254e+02  1.638977e+02  1.229973e-01  \n",
       "std      1.645475e+04          5.403571e+01  7.997953e+01  3.284341e-01  \n",
       "min      2.630000e+03          1.000000e+00  1.000000e+01  0.000000e+00  \n",
       "25%      2.527700e+04          2.900000e+01  9.900000e+01  0.000000e+00  \n",
       "50%      3.182400e+04          1.510000e+02  1.660000e+02  0.000000e+00  \n",
       "75%      3.945100e+04          1.520000e+02  2.320000e+02  0.000000e+00  \n",
       "max      5.401650e+05          1.630000e+02  2.990000e+02  1.000000e+00  "
      ]
     },
     "metadata": {},
     "output_type": "display_data"
    }
   ],
   "source": [
    "display(df_train.head())\n",
    "display(df_train.info())\n",
    "display(df_train.describe())"
   ]
  },
  {
   "cell_type": "code",
   "execution_count": 9,
   "id": "68cbb38f-aab8-48f5-96c4-53b7f5d3e835",
   "metadata": {},
   "outputs": [
    {
     "name": "stdout",
     "output_type": "stream",
     "text": [
      "<class 'pandas.core.frame.DataFrame'>\n",
      "Int64Index: 7669866 entries, 11504798 to 19174663\n",
      "Data columns (total 10 columns):\n",
      " #   Column                Dtype  \n",
      "---  ------                -----  \n",
      " 0   Gender                object \n",
      " 1   Age                   int64  \n",
      " 2   Driving_License       int64  \n",
      " 3   Region_Code           float64\n",
      " 4   Previously_Insured    int64  \n",
      " 5   Vehicle_Age           object \n",
      " 6   Vehicle_Damage        object \n",
      " 7   Annual_Premium        float64\n",
      " 8   Policy_Sales_Channel  float64\n",
      " 9   Vintage               int64  \n",
      "dtypes: float64(3), int64(4), object(3)\n",
      "memory usage: 643.7+ MB\n"
     ]
    },
    {
     "data": {
      "text/plain": [
       "None"
      ]
     },
     "metadata": {},
     "output_type": "display_data"
    }
   ],
   "source": [
    "display(df_test.info())"
   ]
  },
  {
   "cell_type": "markdown",
   "id": "33b87f93-9b1c-4106-9884-6811ca8cf46b",
   "metadata": {
    "jp-MarkdownHeadingCollapsed": true
   },
   "source": [
    "#### Data Preprocess"
   ]
  },
  {
   "cell_type": "code",
   "execution_count": 10,
   "id": "4888cacb-3bd2-4780-ab50-0c11779eb123",
   "metadata": {},
   "outputs": [
    {
     "data": {
      "text/plain": [
       "0"
      ]
     },
     "metadata": {},
     "output_type": "display_data"
    },
    {
     "data": {
      "text/plain": [
       "0"
      ]
     },
     "metadata": {},
     "output_type": "display_data"
    }
   ],
   "source": [
    "display(df_train.duplicated().sum())\n",
    "display(df_test.duplicated().sum())"
   ]
  },
  {
   "cell_type": "code",
   "execution_count": 11,
   "id": "7bd1441d-2488-4fdc-8cb9-cc301efb988a",
   "metadata": {},
   "outputs": [
    {
     "data": {
      "text/plain": [
       "Gender                  0\n",
       "Age                     0\n",
       "Driving_License         0\n",
       "Region_Code             0\n",
       "Previously_Insured      0\n",
       "Vehicle_Age             0\n",
       "Vehicle_Damage          0\n",
       "Annual_Premium          0\n",
       "Policy_Sales_Channel    0\n",
       "Vintage                 0\n",
       "Response                0\n",
       "dtype: int64"
      ]
     },
     "metadata": {},
     "output_type": "display_data"
    },
    {
     "data": {
      "text/plain": [
       "Gender                  0\n",
       "Age                     0\n",
       "Driving_License         0\n",
       "Region_Code             0\n",
       "Previously_Insured      0\n",
       "Vehicle_Age             0\n",
       "Vehicle_Damage          0\n",
       "Annual_Premium          0\n",
       "Policy_Sales_Channel    0\n",
       "Vintage                 0\n",
       "dtype: int64"
      ]
     },
     "metadata": {},
     "output_type": "display_data"
    }
   ],
   "source": [
    "display(df_train.isna().sum())\n",
    "display(df_test.isna().sum())"
   ]
  },
  {
   "cell_type": "code",
   "execution_count": 12,
   "id": "dbcc89df-fa0d-4630-b88c-e80f81d24ba3",
   "metadata": {},
   "outputs": [],
   "source": [
    "df = pd.concat([df_train, df_test], axis=0)\n",
    "\n",
    "polsalchan_vc = df['Policy_Sales_Channel'].value_counts()\n",
    "sparce_polsalchan = polsalchan_vc[polsalchan_vc < 100].index.to_list()\n",
    "df.loc[df['Policy_Sales_Channel'].isin(sparce_polsalchan), 'Policy_Sales_Channel'] = -1\n",
    "\n",
    "df.loc[df['Region_Code']==39.2, 'Region_Code'] = 39.0\n"
   ]
  },
  {
   "cell_type": "code",
   "execution_count": 13,
   "id": "197f414a-c94c-4039-b104-3f9046a31340",
   "metadata": {},
   "outputs": [],
   "source": [
    "df_train.loc[df_train['Policy_Sales_Channel'].isin(sparce_polsalchan), 'Policy_Sales_Channel'] = -1\n",
    "df_test.loc[df_test['Policy_Sales_Channel'].isin(sparce_polsalchan), 'Policy_Sales_Channel'] = -1\n",
    "\n",
    "df_train.loc[df_train['Region_Code']==39.2, 'Region_Code'] = 39.0\n",
    "df_test.loc[df_test['Region_Code']==39.2, 'Region_Code'] = 39.0\n"
   ]
  },
  {
   "cell_type": "code",
   "execution_count": 14,
   "id": "0e1c30b8-060a-4395-a0fd-cce96058d344",
   "metadata": {},
   "outputs": [],
   "source": [
    "bin_cols = ['Gender', 'Vehicle_Damage']\n",
    "cat_cols = ['Region_Code', 'Vehicle_Age', 'Policy_Sales_Channel', 'Vintage']\n",
    "num_cols = ['Age', 'Driving_License', 'Previously_Insured', 'Annual_Premium']\n",
    "target   = ['Response']"
   ]
  },
  {
   "cell_type": "code",
   "execution_count": 15,
   "id": "d9dbea7c-c595-41de-8aa9-ee31ccc63998",
   "metadata": {},
   "outputs": [],
   "source": [
    "def to_float32(x):\n",
    "    return(x.astype(np.float32))\n",
    "\n",
    "pipeline = make_pipeline(\n",
    "    ColumnTransformer([('bin_encode',\n",
    "                        make_pipeline(OrdinalEncoder(),\n",
    "                                      # FunctionTransformer(lambda x: x.astype(np.float32)),\n",
    "                                      FunctionTransformer(func=to_float32),\n",
    "                                      StandardScaler()\n",
    "                                     ), bin_cols),\n",
    "\n",
    "                       ('num_encode',\n",
    "                        make_pipeline(StandardScaler(),\n",
    "                                      # FunctionTransformer(lambda x: x.astype(np.float32))\n",
    "                                      FunctionTransformer(func=to_float32),\n",
    "                                     ), num_cols),\n",
    "                      \n",
    "                       ('cat_encode',\n",
    "                       make_pipeline(OrdinalEncoder(),\n",
    "                                     # FunctionTransformer(lambda x: x.astype(np.int32))\n",
    "                                     FunctionTransformer(func=to_float32),\n",
    "                                    ), cat_cols)],\n",
    "                       \n",
    "                       remainder='drop')\n",
    ")\n"
   ]
  },
  {
   "cell_type": "markdown",
   "id": "37c29bd9-c9ec-4719-9da1-6f0fdb65bce7",
   "metadata": {
    "jp-MarkdownHeadingCollapsed": true
   },
   "source": [
    "### Embeddings training (Non-Linear)"
   ]
  },
  {
   "cell_type": "markdown",
   "id": "9a1f45ba-ae1e-4623-9b7c-00af86a9abe9",
   "metadata": {
    "jp-MarkdownHeadingCollapsed": true
   },
   "source": [
    "##### Dataset"
   ]
  },
  {
   "cell_type": "code",
   "execution_count": 16,
   "id": "b02831e1-f477-4a77-aee6-94f32325033c",
   "metadata": {},
   "outputs": [
    {
     "data": {
      "text/plain": [
       "[51]"
      ]
     },
     "execution_count": 16,
     "metadata": {},
     "output_type": "execute_result"
    }
   ],
   "source": [
    "random.choices(range(100), weights=[1/10]*99+[10])"
   ]
  },
  {
   "cell_type": "code",
   "execution_count": 17,
   "id": "d0b0decb-e89a-4f98-813b-170db2f1ea71",
   "metadata": {},
   "outputs": [],
   "source": [
    "class CosEmb_Dataset(Dataset):\n",
    "    def __init__(self, df, is_eval=False, is_test=False):\n",
    "        \n",
    "        self.df = df.copy()\n",
    "        self.df.loc[:, target] = self.df.loc[:, target].where(self.df[target]==1, -1)\n",
    "        self.is_eval = is_eval\n",
    "        self.is_test = is_test\n",
    "        self.length = len(self.df)\n",
    "\n",
    "        if self.is_test:\n",
    "            self.X = self.df\n",
    "        else:\n",
    "            self.X, self.y = self.df.drop(target, axis=1), self.df[target].values\n",
    "        \n",
    "        if self.is_test or self.is_eval:\n",
    "            self.X = pipeline.transform(self.X)\n",
    "        else:\n",
    "            self.X = pipeline.fit_transform(self.X)\n",
    "        gc.collect()\n",
    "\n",
    "    def __getitem__(self, index):\n",
    "        contr_index = random.randint(0, self.length-1)\n",
    "        # contr_index\n",
    "        return self.X[index], self.X[contr_index], self.y[index]*self.y[contr_index]\n",
    "\n",
    "    def __len__(self):\n",
    "        return self.X.shape[0]\n"
   ]
  },
  {
   "cell_type": "markdown",
   "id": "c2ffaf76-41b4-4cf1-b3fa-3ae26f1e078a",
   "metadata": {
    "jp-MarkdownHeadingCollapsed": true
   },
   "source": [
    "##### CosEmb Model Structure"
   ]
  },
  {
   "cell_type": "code",
   "execution_count": 18,
   "id": "ef5a08d8-73c2-4377-a00c-f302f015ceb3",
   "metadata": {},
   "outputs": [],
   "source": [
    "class CosEmb(nn.Module):\n",
    "    def __init__(self,\n",
    "                 input_dim: int = 6+8+2+12+18,\n",
    "                 emb_szs = [(53, 8), (3, 2), (123, 12), (290, 18)],\n",
    "                 layers_num = 0,\n",
    "                 layers_dim = 256,\n",
    "                 outvector_dum = 256,\n",
    "                 activation = nn.ReLU,\n",
    "                 dropout = 0.,\n",
    "                 add_num = False,\n",
    "                 use_fc = False\n",
    "                ):\n",
    "        super(CosEmb, self).__init__()\n",
    "    \n",
    "        self.embeddings = nn.ModuleList([nn.Embedding(in_sz, out_sz) for in_sz, out_sz in emb_szs])\n",
    "        self.add_num = add_num\n",
    "        self.use_fc = use_fc\n",
    "        if not add_num: input_dim = sum([i[1] for i in emb_szs])\n",
    "\n",
    "        fc_layers = []\n",
    "        fc_layers.append(nn.LazyBatchNorm1d())\n",
    "        fc_layers.append(nn.Linear(input_dim, layers_dim))\n",
    "        fc_layers.append(nn.LazyBatchNorm1d())\n",
    "        fc_layers.append(activation())\n",
    "        fc_layers.append(nn.Dropout(p=dropout))\n",
    "        for i in range(layers_num):\n",
    "            fc_layers.append(nn.Linear(layers_dim, layers_dim))\n",
    "            fc_layers.append(nn.LazyBatchNorm1d())\n",
    "            fc_layers.append(activation())\n",
    "            fc_layers.append(nn.Dropout(p=dropout))\n",
    "        fc_layers.append(nn.Linear(layers_dim, layers_dim))\n",
    "    \n",
    "        self.fc = nn.Sequential(*fc_layers)\n",
    "\n",
    "    def forward(self, x1, x2):\n",
    "        x1_num = x1[:, :6]\n",
    "        x1_cat = x1[:, 6:].long()\n",
    "        x1_cat = [emb_layer(x1_cat[:, i]) for i, emb_layer in enumerate(self.embeddings)]\n",
    "        x1_cat = torch.cat(x1_cat, dim=-1)\n",
    "        \n",
    "        x2_num = x2[:, :6]\n",
    "        x2_cat = x2[:, 6:].long()\n",
    "        x2_cat = [emb_layer(x2_cat[:, i]) for i, emb_layer in enumerate(self.embeddings)]\n",
    "        x2_cat = torch.cat(x2_cat, dim=-1)\n",
    "\n",
    "        if self.add_num:\n",
    "            x1 = torch.cat([x1_num, x1_cat], dim=-1).float()\n",
    "            x2 = torch.cat([x2_num, x2_cat], dim=-1).float()\n",
    "        else:\n",
    "            x1 = x1_cat.float()\n",
    "            x2 = x2_cat.float()\n",
    "\n",
    "        if self.use_fc:\n",
    "            x1 = self.fc(x1)\n",
    "            x2 = self.fc(x2)\n",
    "        \n",
    "        return x1, x2\n",
    "\n",
    "    def make_embs(self, x):\n",
    "        x_num = x[:, :6]\n",
    "        x_cat = x[:, 6:].long()\n",
    "        x_cat = [emb_layer(x_cat[:, i]) for i, emb_layer in enumerate(self.embeddings)]\n",
    "        x_cat = torch.cat(x_cat, dim=-1)\n",
    "        \n",
    "        if self.add_num:\n",
    "            x = torch.cat([x_num, x_cat], dim=-1).float()\n",
    "\n",
    "        if self.use_fc:\n",
    "            x = self.fc(x)\n",
    "\n",
    "        return x        \n",
    "    "
   ]
  },
  {
   "cell_type": "code",
   "execution_count": 19,
   "id": "a8fc22b6-c91d-4d9c-9bb8-9049fbbe4a5f",
   "metadata": {},
   "outputs": [],
   "source": [
    "def train_epoch_cosemb(model, optimizer, loss_fn, train_dataloader):\n",
    "    model.train()\n",
    "    losses = 0\n",
    "\n",
    "    for X1, X2, y in tqdm.tqdm(train_dataloader):\n",
    "        X1, X2, y = X1.to(DEVICE), X2.to(DEVICE), y.to(DEVICE).squeeze_()\n",
    "\n",
    "        preds1, preds2 = model(X1, X2)\n",
    "        optimizer.zero_grad()\n",
    "        loss = loss_fn(preds1, preds2, y.float())\n",
    "        \n",
    "        loss.backward()\n",
    "        optimizer.step()\n",
    "        losses += loss.item()\n",
    "\n",
    "    return losses / len(train_dataloader)\n",
    "    \n",
    "def evaluate_cosemb(model, loss_fn, test_dataloader, altmetric=None):\n",
    "    model.eval()\n",
    "    losses = 0\n",
    "\n",
    "    for X1, X2, y in test_dataloader:\n",
    "        X1, X2, y = X1.to(DEVICE), X2.to(DEVICE), y.to(DEVICE).squeeze_()\n",
    "        \n",
    "        preds1, preds2 = model(X1, X2)\n",
    "        loss = loss_fn(preds1, preds2, y.float())\n",
    "\n",
    "        losses += loss.item()\n",
    "\n",
    "    return losses / len(test_dataloader)\n"
   ]
  },
  {
   "cell_type": "markdown",
   "id": "98dda02f-fb0c-40e4-ac9f-e2d200a9a165",
   "metadata": {
    "jp-MarkdownHeadingCollapsed": true
   },
   "source": [
    "##### CosEmb Model Training"
   ]
  },
  {
   "cell_type": "code",
   "execution_count": null,
   "id": "e0eb5d12-b019-4f7f-8ec4-cc61425acd5d",
   "metadata": {},
   "outputs": [],
   "source": []
  },
  {
   "cell_type": "code",
   "execution_count": 20,
   "id": "05a4fa47-8498-4510-9f62-c1f315a4a5e0",
   "metadata": {
    "scrolled": true
   },
   "outputs": [
    {
     "data": {
      "text/plain": [
       "10929558"
      ]
     },
     "metadata": {},
     "output_type": "display_data"
    },
    {
     "data": {
      "text/plain": [
       "575240"
      ]
     },
     "metadata": {},
     "output_type": "display_data"
    }
   ],
   "source": [
    "df_train_train, df_train_eval = train_test_split(df_train, test_size=EVAL_SIZE, random_state=SEED,\n",
    "                                                 shuffle=True, stratify=df_train[target])\n",
    "\n",
    "dataset_train = CosEmb_Dataset(df_train_train)\n",
    "dataset_eval = CosEmb_Dataset(df_train_eval, is_eval=True)\n",
    "# dataset_train = Base_Dataset(df_train)\n",
    "\n",
    "display(len(dataset_train))\n",
    "display(len(dataset_eval))\n"
   ]
  },
  {
   "cell_type": "code",
   "execution_count": 47,
   "id": "84dee839-8d38-4b5d-bb7a-c8aa1dc2864e",
   "metadata": {},
   "outputs": [
    {
     "name": "stderr",
     "output_type": "stream",
     "text": [
      "/home/gin/anaconda3/envs/env0/lib/python3.11/site-packages/torch/nn/modules/lazy.py:181: UserWarning: Lazy modules are a new feature under heavy development so changes to the API or functionality can happen at any moment.\n",
      "  warnings.warn('Lazy modules are a new feature under heavy development '\n"
     ]
    }
   ],
   "source": [
    "DEVICE = torch.device('cuda' if torch.cuda.is_available() else 'cpu')\n",
    "\n",
    "EMB_0, EMB_1, EMB_2, EMB_3 = 20, 2, 20, 40\n",
    "# EMB_0, EMB_1, EMB_2, EMB_3 = 10, 2, 15, 20\n",
    "INPUT_DIM = 6+EMB_0+EMB_1+EMB_2+EMB_3\n",
    "LAYERS_NUM = 1\n",
    "LAYERS_DIM = 512\n",
    "ACTIVATION = nn.RReLU\n",
    "DROPOUT = 0.15\n",
    "EMB_SZS = [(53, EMB_0), (3, EMB_1), (123, EMB_2), (290, EMB_3)]\n",
    "ADD_NUM = True\n",
    "USE_FC = True\n",
    "\n",
    "NUM_EPOCHS = 32\n",
    "BATCH_SIZE = 1024*32\n",
    "LR = 0.001 #0.001\n",
    "WEIGHT_DECAY = 1e-6\n",
    "\n",
    "cosemb = CosEmb(input_dim=INPUT_DIM,\n",
    "                layers_num=LAYERS_NUM,\n",
    "                layers_dim=LAYERS_DIM,\n",
    "                activation=ACTIVATION,\n",
    "                dropout=DROPOUT,\n",
    "                emb_szs=EMB_SZS,                \n",
    "                add_num=ADD_NUM,\n",
    "                use_fc=USE_FC\n",
    "               )\n",
    "\n",
    "cosemb.to(DEVICE)\n",
    "\n",
    "sampler_weights = torch.Tensor(np.where(df_train_train['Response']==0, 1, 64))\n",
    "num_samples = len(df_train_train)\n",
    "sampler = torch.utils.data.WeightedRandomSampler(num_samples=num_samples, weights=sampler_weights)\n",
    "trainloader = torch.utils.data.DataLoader(dataset_train, sampler=sampler,\n",
    "                                          batch_size=BATCH_SIZE, shuffle=False,\n",
    "                                          num_workers=8, drop_last=False)\n",
    "\n",
    "evalloader = torch.utils.data.DataLoader(dataset_eval,\n",
    "                                         batch_size=BATCH_SIZE, shuffle=True,\n",
    "                                         num_workers=8, drop_last=False)\n",
    "\n",
    "loss_fn = nn.CosineEmbeddingLoss()\n",
    "optimizer = torch.optim.AdamW(cosemb.parameters(), lr=LR, weight_decay=WEIGHT_DECAY)\n",
    "                              "
   ]
  },
  {
   "cell_type": "code",
   "execution_count": 48,
   "id": "c9937534-2f44-404e-9d9b-64334b88a617",
   "metadata": {},
   "outputs": [
    {
     "name": "stderr",
     "output_type": "stream",
     "text": [
      "100%|██████████| 334/334 [00:45<00:00,  7.38it/s]\n"
     ]
    },
    {
     "name": "stdout",
     "output_type": "stream",
     "text": [
      "Epoch: 1, Train loss: 0.18561, Val loss: 0.28284\n"
     ]
    },
    {
     "name": "stderr",
     "output_type": "stream",
     "text": [
      "100%|██████████| 334/334 [00:46<00:00,  7.12it/s]\n"
     ]
    },
    {
     "name": "stdout",
     "output_type": "stream",
     "text": [
      "Epoch: 2, Train loss: 0.16957, Val loss: 0.25210\n"
     ]
    },
    {
     "name": "stderr",
     "output_type": "stream",
     "text": [
      "100%|██████████| 334/334 [00:44<00:00,  7.51it/s]\n"
     ]
    },
    {
     "name": "stdout",
     "output_type": "stream",
     "text": [
      "Epoch: 3, Train loss: 0.16465, Val loss: 0.23741\n"
     ]
    },
    {
     "name": "stderr",
     "output_type": "stream",
     "text": [
      "100%|██████████| 334/334 [00:44<00:00,  7.43it/s]\n"
     ]
    },
    {
     "name": "stdout",
     "output_type": "stream",
     "text": [
      "Epoch: 4, Train loss: 0.16375, Val loss: 0.23047\n"
     ]
    },
    {
     "name": "stderr",
     "output_type": "stream",
     "text": [
      "100%|██████████| 334/334 [00:46<00:00,  7.24it/s]\n"
     ]
    },
    {
     "name": "stdout",
     "output_type": "stream",
     "text": [
      "Epoch: 5, Train loss: 0.16308, Val loss: 0.22651\n"
     ]
    },
    {
     "name": "stderr",
     "output_type": "stream",
     "text": [
      "100%|██████████| 334/334 [00:44<00:00,  7.46it/s]\n"
     ]
    },
    {
     "name": "stdout",
     "output_type": "stream",
     "text": [
      "Epoch: 6, Train loss: 0.16236, Val loss: 0.22141\n"
     ]
    },
    {
     "name": "stderr",
     "output_type": "stream",
     "text": [
      "100%|██████████| 334/334 [00:45<00:00,  7.39it/s]\n"
     ]
    },
    {
     "name": "stdout",
     "output_type": "stream",
     "text": [
      "Epoch: 7, Train loss: 0.16154, Val loss: 0.21952\n"
     ]
    },
    {
     "name": "stderr",
     "output_type": "stream",
     "text": [
      "100%|██████████| 334/334 [00:46<00:00,  7.16it/s]\n"
     ]
    },
    {
     "name": "stdout",
     "output_type": "stream",
     "text": [
      "Epoch: 8, Train loss: 0.16130, Val loss: 0.21937\n"
     ]
    },
    {
     "name": "stderr",
     "output_type": "stream",
     "text": [
      "100%|██████████| 334/334 [00:45<00:00,  7.42it/s]\n"
     ]
    },
    {
     "name": "stdout",
     "output_type": "stream",
     "text": [
      "Epoch: 9, Train loss: 0.16103, Val loss: 0.21794\n"
     ]
    },
    {
     "name": "stderr",
     "output_type": "stream",
     "text": [
      "100%|██████████| 334/334 [00:44<00:00,  7.46it/s]\n"
     ]
    },
    {
     "name": "stdout",
     "output_type": "stream",
     "text": [
      "Epoch: 10, Train loss: 0.16068, Val loss: 0.21917\n"
     ]
    },
    {
     "name": "stderr",
     "output_type": "stream",
     "text": [
      "100%|██████████| 334/334 [00:46<00:00,  7.16it/s]\n"
     ]
    },
    {
     "name": "stdout",
     "output_type": "stream",
     "text": [
      "Epoch: 11, Train loss: 0.16046, Val loss: 0.22015\n"
     ]
    },
    {
     "name": "stderr",
     "output_type": "stream",
     "text": [
      "100%|██████████| 334/334 [00:44<00:00,  7.44it/s]\n"
     ]
    },
    {
     "name": "stdout",
     "output_type": "stream",
     "text": [
      "Epoch: 12, Train loss: 0.16042, Val loss: 0.21997\n"
     ]
    },
    {
     "name": "stderr",
     "output_type": "stream",
     "text": [
      "100%|██████████| 334/334 [00:45<00:00,  7.40it/s]\n"
     ]
    },
    {
     "name": "stdout",
     "output_type": "stream",
     "text": [
      "Epoch: 13, Train loss: 0.16005, Val loss: 0.22129\n"
     ]
    },
    {
     "name": "stderr",
     "output_type": "stream",
     "text": [
      "100%|██████████| 334/334 [00:46<00:00,  7.17it/s]\n"
     ]
    },
    {
     "name": "stdout",
     "output_type": "stream",
     "text": [
      "Epoch: 14, Train loss: 0.15977, Val loss: 0.21962\n"
     ]
    },
    {
     "name": "stderr",
     "output_type": "stream",
     "text": [
      "100%|██████████| 334/334 [00:45<00:00,  7.42it/s]\n"
     ]
    },
    {
     "name": "stdout",
     "output_type": "stream",
     "text": [
      "Epoch: 15, Train loss: 0.15946, Val loss: 0.21998\n"
     ]
    },
    {
     "name": "stderr",
     "output_type": "stream",
     "text": [
      "100%|██████████| 334/334 [00:44<00:00,  7.47it/s]\n"
     ]
    },
    {
     "name": "stdout",
     "output_type": "stream",
     "text": [
      "Epoch: 16, Train loss: 0.15931, Val loss: 0.21988\n"
     ]
    },
    {
     "name": "stderr",
     "output_type": "stream",
     "text": [
      "100%|██████████| 334/334 [00:46<00:00,  7.24it/s]\n"
     ]
    },
    {
     "name": "stdout",
     "output_type": "stream",
     "text": [
      "Epoch: 17, Train loss: 0.15919, Val loss: 0.22190\n"
     ]
    },
    {
     "name": "stderr",
     "output_type": "stream",
     "text": [
      "100%|██████████| 334/334 [00:45<00:00,  7.41it/s]\n"
     ]
    },
    {
     "name": "stdout",
     "output_type": "stream",
     "text": [
      "Epoch: 18, Train loss: 0.15896, Val loss: 0.21995\n"
     ]
    },
    {
     "name": "stderr",
     "output_type": "stream",
     "text": [
      "100%|██████████| 334/334 [00:44<00:00,  7.42it/s]\n"
     ]
    },
    {
     "name": "stdout",
     "output_type": "stream",
     "text": [
      "Epoch: 19, Train loss: 0.15898, Val loss: 0.21832\n"
     ]
    },
    {
     "name": "stderr",
     "output_type": "stream",
     "text": [
      "100%|██████████| 334/334 [00:46<00:00,  7.20it/s]\n"
     ]
    },
    {
     "name": "stdout",
     "output_type": "stream",
     "text": [
      "Epoch: 20, Train loss: 0.15911, Val loss: 0.21910\n"
     ]
    },
    {
     "name": "stderr",
     "output_type": "stream",
     "text": [
      "100%|██████████| 334/334 [00:45<00:00,  7.35it/s]\n"
     ]
    },
    {
     "name": "stdout",
     "output_type": "stream",
     "text": [
      "Epoch: 21, Train loss: 0.15875, Val loss: 0.21889\n"
     ]
    },
    {
     "name": "stderr",
     "output_type": "stream",
     "text": [
      "100%|██████████| 334/334 [00:45<00:00,  7.41it/s]\n"
     ]
    },
    {
     "name": "stdout",
     "output_type": "stream",
     "text": [
      "Epoch: 22, Train loss: 0.15874, Val loss: 0.21825\n"
     ]
    },
    {
     "name": "stderr",
     "output_type": "stream",
     "text": [
      "100%|██████████| 334/334 [00:46<00:00,  7.19it/s]\n"
     ]
    },
    {
     "name": "stdout",
     "output_type": "stream",
     "text": [
      "Epoch: 23, Train loss: 0.15869, Val loss: 0.21706\n"
     ]
    },
    {
     "name": "stderr",
     "output_type": "stream",
     "text": [
      "100%|██████████| 334/334 [00:44<00:00,  7.51it/s]\n"
     ]
    },
    {
     "name": "stdout",
     "output_type": "stream",
     "text": [
      "Epoch: 24, Train loss: 0.15869, Val loss: 0.21794\n"
     ]
    },
    {
     "name": "stderr",
     "output_type": "stream",
     "text": [
      "100%|██████████| 334/334 [00:45<00:00,  7.42it/s]\n"
     ]
    },
    {
     "name": "stdout",
     "output_type": "stream",
     "text": [
      "Epoch: 25, Train loss: 0.15881, Val loss: 0.21625\n"
     ]
    },
    {
     "name": "stderr",
     "output_type": "stream",
     "text": [
      "100%|██████████| 334/334 [00:46<00:00,  7.14it/s]\n"
     ]
    },
    {
     "name": "stdout",
     "output_type": "stream",
     "text": [
      "Epoch: 26, Train loss: 0.15819, Val loss: 0.21726\n"
     ]
    },
    {
     "name": "stderr",
     "output_type": "stream",
     "text": [
      "100%|██████████| 334/334 [00:44<00:00,  7.44it/s]\n"
     ]
    },
    {
     "name": "stdout",
     "output_type": "stream",
     "text": [
      "Epoch: 27, Train loss: 0.15862, Val loss: 0.21798\n"
     ]
    },
    {
     "name": "stderr",
     "output_type": "stream",
     "text": [
      "100%|██████████| 334/334 [00:45<00:00,  7.40it/s]\n"
     ]
    },
    {
     "name": "stdout",
     "output_type": "stream",
     "text": [
      "Epoch: 28, Train loss: 0.15834, Val loss: 0.21709\n"
     ]
    },
    {
     "name": "stderr",
     "output_type": "stream",
     "text": [
      "100%|██████████| 334/334 [00:46<00:00,  7.19it/s]\n"
     ]
    },
    {
     "name": "stdout",
     "output_type": "stream",
     "text": [
      "Epoch: 29, Train loss: 0.15837, Val loss: 0.21672\n"
     ]
    },
    {
     "name": "stderr",
     "output_type": "stream",
     "text": [
      "100%|██████████| 334/334 [00:44<00:00,  7.46it/s]\n"
     ]
    },
    {
     "name": "stdout",
     "output_type": "stream",
     "text": [
      "Epoch: 30, Train loss: 0.15841, Val loss: 0.22278\n"
     ]
    },
    {
     "name": "stderr",
     "output_type": "stream",
     "text": [
      "100%|██████████| 334/334 [00:45<00:00,  7.38it/s]\n"
     ]
    },
    {
     "name": "stdout",
     "output_type": "stream",
     "text": [
      "Epoch: 31, Train loss: 0.15843, Val loss: 0.21682\n"
     ]
    },
    {
     "name": "stderr",
     "output_type": "stream",
     "text": [
      "100%|██████████| 334/334 [00:46<00:00,  7.15it/s]\n"
     ]
    },
    {
     "name": "stdout",
     "output_type": "stream",
     "text": [
      "Epoch: 32, Train loss: 0.15824, Val loss: 0.21630\n",
      "CPU times: user 9min 59s, sys: 2min 22s, total: 12min 21s\n",
      "Wall time: 26min 34s\n"
     ]
    }
   ],
   "source": [
    "%%time\n",
    "\n",
    "for epoch in range(1, NUM_EPOCHS+1):\n",
    "    train_loss = train_epoch_cosemb(cosemb, optimizer, loss_fn, trainloader)\n",
    "    eval_loss = evaluate_cosemb(cosemb, loss_fn, evalloader)\n",
    "    print((f\"Epoch: {epoch}, Train loss: {train_loss:.5f}, Val loss: {eval_loss:.5f}\"))\n",
    "    "
   ]
  },
  {
   "cell_type": "code",
   "execution_count": 37,
   "id": "ee9ea131-2a4e-4501-a646-9da6e936471c",
   "metadata": {},
   "outputs": [
    {
     "data": {
      "text/plain": [
       "<Axes: >"
      ]
     },
     "execution_count": 37,
     "metadata": {},
     "output_type": "execute_result"
    },
    {
     "data": {
      "image/png": "[encoded data removed]",
      "text/plain": [
       "<Figure size 640x480 with 2 Axes>"
      ]
     },
     "metadata": {},
     "output_type": "display_data"
    }
   ],
   "source": [
    "sns.heatmap(cosemb.embeddings[1].weight.cpu().detach())\n"
   ]
  },
  {
   "cell_type": "code",
   "execution_count": 50,
   "id": "3079d959-6116-475d-9e21-4188a43a80da",
   "metadata": {},
   "outputs": [],
   "source": [
    "# with open(PATH+'pipeline_2', 'wb') as fp:\n",
    "#     pickle.dump(pipeline, fp)"
   ]
  },
  {
   "cell_type": "code",
   "execution_count": 51,
   "id": "1ce6ee43-ce02-4883-8bf4-8c44fccfc106",
   "metadata": {},
   "outputs": [],
   "source": [
    "# with open(PATH+'embeddings_cosemb-wnum-64_2.pth', 'wb') as fp:\n",
    "    # pickle.dump(cosemb.embeddings, fp)"
   ]
  },
  {
   "cell_type": "code",
   "execution_count": 52,
   "id": "6f918370-c1e4-4d36-ab95-7c6f48edc3e7",
   "metadata": {},
   "outputs": [],
   "source": [
    "# with open(PATH+'cosemb256-wnum-64_2.pth', 'wb') as fp:\n",
    "    # torch.save(cosemb, fp)"
   ]
  },
  {
   "cell_type": "markdown",
   "id": "e2e3e6ea-d249-43d4-abab-5961abb30db9",
   "metadata": {
    "jp-MarkdownHeadingCollapsed": true
   },
   "source": [
    "##### CosEmb optuna"
   ]
  },
  {
   "cell_type": "code",
   "execution_count": 20,
   "id": "e4de7e24-02bc-47e4-87cd-5c19ec9b4cba",
   "metadata": {},
   "outputs": [
    {
     "data": {
      "text/plain": [
       "10929558"
      ]
     },
     "metadata": {},
     "output_type": "display_data"
    },
    {
     "data": {
      "text/plain": [
       "575240"
      ]
     },
     "metadata": {},
     "output_type": "display_data"
    }
   ],
   "source": [
    "# df_train_train, df_train_eval = train_test_split(df_train, test_size=EVAL_SIZE, random_state=SEED,\n",
    "#                                                  shuffle=True, stratify=df_train[target])\n",
    "\n",
    "# dataset_train = CosEmb_Dataset(df_train_train)\n",
    "# dataset_eval = CosEmb_Dataset(df_train_eval, is_eval=True)\n",
    "# # dataset_train = Base_Dataset(df_train)\n",
    "\n",
    "# display(len(dataset_train))\n",
    "# display(len(dataset_eval))"
   ]
  },
  {
   "cell_type": "code",
   "execution_count": 21,
   "id": "e2d5d348-5408-424c-abef-be99044e8399",
   "metadata": {},
   "outputs": [],
   "source": [
    "ACTIVATIONS = {'ReLU': nn.ReLU,\n",
    "               'SELU': nn.SELU,\n",
    "               'GELU': nn.GELU,\n",
    "               'RReLU': nn.RReLU,\n",
    "               'SiLU': nn.SiLU,\n",
    "               'LeakyReLU': nn.LeakyReLU,\n",
    "               'IDENTITY': nn.Identity,\n",
    "              }\n",
    "\n",
    "def objective(trial):\n",
    "\n",
    "    # model's params\n",
    "    # EMB_0, EMB_1, EMB_2, EMB_3 = 25, 2, 50, 50\n",
    "    EMB_0, EMB_1, EMB_2, EMB_3 = trial.suggest_int('EMB_0', 10, 25, step=5),\\\n",
    "                                 trial.suggest_int('EMB_1', 2, 3, step=1),\\\n",
    "                                 trial.suggest_int('EMB_2', 20, 50, step=5),\\\n",
    "                                 trial.suggest_int('EMB_3', 20, 50, step=5)\n",
    "    INPUT_DIM = 6+EMB_0+EMB_1+EMB_2+EMB_3\n",
    "    LAYERS_NUM = trial.suggest_int('LAYERS_NUM', 0, 2, step=1) #4\n",
    "    LAYERS_DIM = trial.suggest_int('LAYERS_DIM', 128, 512, step=128) #64\n",
    "    ACTIVATION_OPTIONS = trial.suggest_categorical('ACTIVATION', ['ReLU', 'SELU', 'GELU', 'RReLU'])\n",
    "    ACTIVATION = ACTIVATIONS[ACTIVATION_OPTIONS]\n",
    "    EMB_SZS = [(53, EMB_0), (3, EMB_1), (123, EMB_2), (290, EMB_3)]\n",
    "    DROPOUT = trial.suggest_float('DROPOUT', 0, 0.2)\n",
    "    \n",
    "    # learning params\n",
    "    NUM_EPOCHS = trial.suggest_int('NUM_EPOCHS', 8, 32, step=8)\n",
    "    BATCH_SIZE = 1024*4 #trial.suggest_int('BATCH_SIZE', 1024, 4096, step=1024) #2048\n",
    "    LR = trial.suggest_float('LR', 5e-5, 5e-3, log=True)\n",
    "    WEIGHT_DECAY = trial.suggest_float('WEIGHT_DECAY', 1e-6, 1e-3, log=True)\n",
    "    \n",
    "    cosemb = CosEmb(input_dim=INPUT_DIM,\n",
    "                    layers_num=LAYERS_NUM,\n",
    "                    layers_dim=LAYERS_DIM,\n",
    "                    activation=ACTIVATION,\n",
    "                    emb_szs=EMB_SZS,\n",
    "                    add_num=True,\n",
    "                    use_fc=True,\n",
    "                    dropout=DROPOUT\n",
    "                  )\n",
    "    cosemb.to(DEVICE)\n",
    "    \n",
    "    sampler_weights = torch.Tensor(np.where(df_train_train['Response']==0, 1, 64))\n",
    "    num_samples = len(df_train_train)\n",
    "    sampler = torch.utils.data.WeightedRandomSampler(num_samples=num_samples, weights=sampler_weights)\n",
    "    trainloader = torch.utils.data.DataLoader(dataset_train, sampler=sampler,\n",
    "                                              batch_size=BATCH_SIZE, shuffle=False,\n",
    "                                              num_workers=8, drop_last=False)\n",
    "    \n",
    "    evalloader = torch.utils.data.DataLoader(dataset_eval,\n",
    "                                             batch_size=BATCH_SIZE, shuffle=True,\n",
    "                                             num_workers=8, drop_last=False)\n",
    "    \n",
    "    loss_fn = nn.CosineEmbeddingLoss()\n",
    "    optimizer = torch.optim.AdamW(cosemb.parameters(), lr=LR, weight_decay=WEIGHT_DECAY)\n",
    "\n",
    "    for epoch in range(1, NUM_EPOCHS+1):\n",
    "        train_loss = train_epoch_cosemb(cosemb, optimizer, loss_fn, trainloader)\n",
    "        \n",
    "        if ((epoch)%4==0):\n",
    "            eval_loss = evaluate_cosemb(cosemb, loss_fn, evalloader)\n",
    "            trial.report(eval_loss, epoch)\n",
    "            if trial.should_prune():\n",
    "                raise optuna.TrialPruned()\n",
    "\n",
    "    eval_loss = evaluate_cosemb(cosemb, loss_fn, evalloader)\n",
    "\n",
    "    torch.cuda.empty_cache()\n",
    "    gc.collect()\n",
    "    return eval_loss"
   ]
  },
  {
   "cell_type": "code",
   "execution_count": null,
   "id": "6cb90ce4-eba9-4dd2-8324-ed4296016d1c",
   "metadata": {
    "scrolled": true
   },
   "outputs": [
    {
     "name": "stderr",
     "output_type": "stream",
     "text": [
      "[I 2024-07-28 01:26:03,708] A new study created in RDB with name: cosemb-study_cosdist4\n",
      "/home/gin/anaconda3/envs/env0/lib/python3.11/site-packages/torch/nn/modules/lazy.py:181: UserWarning: Lazy modules are a new feature under heavy development so changes to the API or functionality can happen at any moment.\n",
      "  warnings.warn('Lazy modules are a new feature under heavy development '\n",
      "100%|██████████| 2669/2669 [00:44<00:00, 60.21it/s]\n",
      "100%|██████████| 2669/2669 [00:43<00:00, 61.75it/s]\n",
      "100%|██████████| 2669/2669 [00:43<00:00, 61.14it/s]\n",
      "100%|██████████| 2669/2669 [00:43<00:00, 60.95it/s]\n",
      "100%|██████████| 2669/2669 [00:44<00:00, 60.42it/s]\n",
      "100%|██████████| 2669/2669 [00:43<00:00, 60.82it/s]\n",
      "100%|██████████| 2669/2669 [00:44<00:00, 60.16it/s]\n",
      "100%|██████████| 2669/2669 [00:43<00:00, 60.89it/s]\n",
      "100%|██████████| 2669/2669 [00:43<00:00, 61.08it/s]\n",
      "100%|██████████| 2669/2669 [00:44<00:00, 60.51it/s]\n",
      "100%|██████████| 2669/2669 [00:42<00:00, 62.79it/s]\n",
      "100%|██████████| 2669/2669 [00:43<00:00, 61.84it/s]\n",
      "100%|██████████| 2669/2669 [00:42<00:00, 62.29it/s]\n",
      "100%|██████████| 2669/2669 [00:43<00:00, 61.86it/s]\n",
      "100%|██████████| 2669/2669 [00:43<00:00, 61.57it/s]\n",
      "100%|██████████| 2669/2669 [00:43<00:00, 61.82it/s]\n",
      "[I 2024-07-28 01:37:55,247] Trial 0 finished with value: 0.24377321805937072 and parameters: {'EMB_0': 25, 'EMB_1': 2, 'EMB_2': 45, 'EMB_3': 50, 'LAYERS_NUM': 2, 'LAYERS_DIM': 256, 'ACTIVATION': 'SELU', 'DROPOUT': 0.007007304820287464, 'NUM_EPOCHS': 16, 'LR': 6.546286193961113e-05, 'WEIGHT_DECAY': 0.0003725485074061498}. Best is trial 0 with value: 0.24377321805937072.\n",
      "/home/gin/anaconda3/envs/env0/lib/python3.11/site-packages/torch/nn/modules/lazy.py:181: UserWarning: Lazy modules are a new feature under heavy development so changes to the API or functionality can happen at any moment.\n",
      "  warnings.warn('Lazy modules are a new feature under heavy development '\n",
      "100%|██████████| 2669/2669 [00:38<00:00, 69.55it/s] \n",
      "100%|██████████| 2669/2669 [00:38<00:00, 69.74it/s] \n",
      "100%|██████████| 2669/2669 [00:37<00:00, 70.62it/s] \n",
      "100%|██████████| 2669/2669 [00:38<00:00, 69.56it/s] \n",
      "100%|██████████| 2669/2669 [00:38<00:00, 69.02it/s] \n",
      "100%|██████████| 2669/2669 [00:37<00:00, 70.82it/s] \n",
      "100%|██████████| 2669/2669 [00:37<00:00, 70.54it/s] \n",
      "100%|██████████| 2669/2669 [00:38<00:00, 70.09it/s] \n",
      "[I 2024-07-28 01:43:07,114] Trial 1 finished with value: 0.26538756468617325 and parameters: {'EMB_0': 15, 'EMB_1': 3, 'EMB_2': 25, 'EMB_3': 30, 'LAYERS_NUM': 0, 'LAYERS_DIM': 256, 'ACTIVATION': 'ReLU', 'DROPOUT': 0.006380733287978946, 'NUM_EPOCHS': 8, 'LR': 0.0009091342148608876, 'WEIGHT_DECAY': 0.00041825421840413604}. Best is trial 0 with value: 0.24377321805937072.\n",
      "100%|██████████| 2669/2669 [00:41<00:00, 64.65it/s]\n",
      "100%|██████████| 2669/2669 [00:40<00:00, 65.13it/s]\n",
      "100%|██████████| 2669/2669 [00:40<00:00, 66.60it/s]\n",
      "100%|██████████| 2669/2669 [00:40<00:00, 65.31it/s]\n",
      "100%|██████████| 2669/2669 [00:40<00:00, 66.39it/s]\n",
      "100%|██████████| 2669/2669 [00:40<00:00, 65.43it/s] \n",
      "100%|██████████| 2669/2669 [00:40<00:00, 65.52it/s]\n",
      "100%|██████████| 2669/2669 [00:40<00:00, 66.38it/s]\n",
      "100%|██████████| 2669/2669 [00:40<00:00, 65.31it/s]\n",
      "100%|██████████| 2669/2669 [00:40<00:00, 66.15it/s]\n",
      "100%|██████████| 2669/2669 [00:40<00:00, 66.15it/s]\n",
      "100%|██████████| 2669/2669 [00:40<00:00, 65.30it/s]\n",
      "100%|██████████| 2669/2669 [00:39<00:00, 66.75it/s]\n",
      "100%|██████████| 2669/2669 [00:40<00:00, 65.25it/s]\n",
      "100%|██████████| 2669/2669 [00:40<00:00, 66.17it/s]\n",
      "100%|██████████| 2669/2669 [00:40<00:00, 66.13it/s]\n",
      "[I 2024-07-28 01:54:07,047] Trial 2 finished with value: 0.40014593440590174 and parameters: {'EMB_0': 10, 'EMB_1': 3, 'EMB_2': 45, 'EMB_3': 20, 'LAYERS_NUM': 1, 'LAYERS_DIM': 384, 'ACTIVATION': 'SELU', 'DROPOUT': 0.1424465355823167, 'NUM_EPOCHS': 16, 'LR': 0.0001790452142418375, 'WEIGHT_DECAY': 0.00012199340624742296}. Best is trial 0 with value: 0.24377321805937072.\n",
      "100%|██████████| 2669/2669 [00:40<00:00, 66.43it/s] \n",
      "100%|██████████| 2669/2669 [00:40<00:00, 65.14it/s]\n",
      "100%|██████████| 2669/2669 [00:40<00:00, 66.31it/s]\n",
      "100%|██████████| 2669/2669 [00:40<00:00, 66.08it/s] \n",
      "100%|██████████| 2669/2669 [00:40<00:00, 65.23it/s]\n",
      "100%|██████████| 2669/2669 [00:39<00:00, 66.80it/s]\n",
      "100%|██████████| 2669/2669 [00:39<00:00, 67.22it/s] \n",
      "100%|██████████| 2669/2669 [00:40<00:00, 66.09it/s] \n",
      "[I 2024-07-28 01:59:36,386] Trial 3 finished with value: 0.2817228218765124 and parameters: {'EMB_0': 25, 'EMB_1': 2, 'EMB_2': 35, 'EMB_3': 25, 'LAYERS_NUM': 1, 'LAYERS_DIM': 384, 'ACTIVATION': 'ReLU', 'DROPOUT': 0.027597210551651454, 'NUM_EPOCHS': 8, 'LR': 0.00015491312503852414, 'WEIGHT_DECAY': 2.8533824631955766e-06}. Best is trial 0 with value: 0.24377321805937072.\n",
      "100%|██████████| 2669/2669 [00:40<00:00, 66.40it/s] \n",
      "100%|██████████| 2669/2669 [00:40<00:00, 65.59it/s]\n",
      "100%|██████████| 2669/2669 [00:39<00:00, 67.10it/s]\n",
      "100%|██████████| 2669/2669 [00:40<00:00, 66.58it/s]\n",
      "100%|██████████| 2669/2669 [00:39<00:00, 67.13it/s] \n",
      "100%|██████████| 2669/2669 [00:40<00:00, 66.63it/s]\n",
      "100%|██████████| 2669/2669 [00:40<00:00, 66.21it/s] \n",
      "100%|██████████| 2669/2669 [00:40<00:00, 66.36it/s]\n",
      "100%|██████████| 2669/2669 [00:40<00:00, 66.53it/s]\n",
      "100%|██████████| 2669/2669 [00:40<00:00, 65.59it/s]\n",
      "100%|██████████| 2669/2669 [00:40<00:00, 66.36it/s] \n",
      "100%|██████████| 2669/2669 [00:40<00:00, 65.66it/s]\n",
      "100%|██████████| 2669/2669 [00:39<00:00, 66.92it/s]\n",
      "100%|██████████| 2669/2669 [00:40<00:00, 65.80it/s]\n",
      "100%|██████████| 2669/2669 [00:39<00:00, 66.84it/s]\n",
      "100%|██████████| 2669/2669 [00:40<00:00, 66.33it/s]\n",
      "100%|██████████| 2669/2669 [00:40<00:00, 66.58it/s]\n",
      "100%|██████████| 2669/2669 [00:40<00:00, 66.27it/s] \n",
      "100%|██████████| 2669/2669 [00:40<00:00, 65.25it/s]\n",
      "100%|██████████| 2669/2669 [00:41<00:00, 65.08it/s]\n",
      "100%|██████████| 2669/2669 [00:39<00:00, 66.93it/s]\n",
      "100%|██████████| 2669/2669 [00:40<00:00, 65.50it/s]\n",
      "100%|██████████| 2669/2669 [00:40<00:00, 65.19it/s]\n",
      "100%|██████████| 2669/2669 [00:40<00:00, 66.15it/s]\n",
      "[I 2024-07-28 02:15:59,137] Trial 4 finished with value: 0.4585949755306785 and parameters: {'EMB_0': 25, 'EMB_1': 3, 'EMB_2': 25, 'EMB_3': 35, 'LAYERS_NUM': 1, 'LAYERS_DIM': 128, 'ACTIVATION': 'ReLU', 'DROPOUT': 0.09812802741303217, 'NUM_EPOCHS': 24, 'LR': 0.004664949210483073, 'WEIGHT_DECAY': 0.0004210750464269407}. Best is trial 0 with value: 0.24377321805937072.\n",
      "100%|██████████| 2669/2669 [00:37<00:00, 70.55it/s] \n",
      "100%|██████████| 2669/2669 [00:38<00:00, 69.60it/s] \n",
      "100%|██████████| 2669/2669 [00:37<00:00, 71.28it/s] \n",
      "100%|██████████| 2669/2669 [00:37<00:00, 70.78it/s] \n",
      "100%|██████████| 2669/2669 [00:38<00:00, 69.84it/s] \n",
      "100%|██████████| 2669/2669 [00:37<00:00, 70.31it/s] \n",
      "100%|██████████| 2669/2669 [00:37<00:00, 71.23it/s] \n",
      "100%|██████████| 2669/2669 [00:38<00:00, 70.20it/s] \n",
      "100%|██████████| 2669/2669 [00:38<00:00, 69.91it/s] \n",
      "100%|██████████| 2669/2669 [00:38<00:00, 69.99it/s] \n",
      "100%|██████████| 2669/2669 [00:37<00:00, 70.36it/s] \n",
      "100%|██████████| 2669/2669 [00:37<00:00, 71.05it/s] \n",
      "100%|██████████| 2669/2669 [00:38<00:00, 69.52it/s] \n",
      "100%|██████████| 2669/2669 [00:37<00:00, 70.38it/s] \n",
      "100%|██████████| 2669/2669 [00:38<00:00, 69.69it/s] \n",
      "100%|██████████| 2669/2669 [00:38<00:00, 70.22it/s] \n",
      "[I 2024-07-28 02:26:17,235] Trial 5 finished with value: 0.2531031771754542 and parameters: {'EMB_0': 15, 'EMB_1': 2, 'EMB_2': 50, 'EMB_3': 30, 'LAYERS_NUM': 0, 'LAYERS_DIM': 512, 'ACTIVATION': 'GELU', 'DROPOUT': 0.19178694639665944, 'NUM_EPOCHS': 16, 'LR': 9.054952021215806e-05, 'WEIGHT_DECAY': 0.00019129474080810385}. Best is trial 0 with value: 0.24377321805937072.\n",
      "100%|██████████| 2669/2669 [00:43<00:00, 61.75it/s]\n",
      "100%|██████████| 2669/2669 [00:42<00:00, 62.24it/s]\n",
      "100%|██████████| 2669/2669 [00:43<00:00, 61.23it/s]\n",
      "100%|██████████| 2669/2669 [00:43<00:00, 61.73it/s]\n",
      "100%|██████████| 2669/2669 [00:44<00:00, 60.28it/s]\n",
      "100%|██████████| 2669/2669 [00:43<00:00, 61.41it/s]\n",
      "100%|██████████| 2669/2669 [00:42<00:00, 62.17it/s]\n",
      "100%|██████████| 2669/2669 [00:42<00:00, 62.58it/s]\n",
      "[I 2024-07-28 02:32:10,161] Trial 6 finished with value: 0.26240420912174467 and parameters: {'EMB_0': 10, 'EMB_1': 2, 'EMB_2': 35, 'EMB_3': 30, 'LAYERS_NUM': 2, 'LAYERS_DIM': 128, 'ACTIVATION': 'ReLU', 'DROPOUT': 0.19329240825547808, 'NUM_EPOCHS': 8, 'LR': 7.290715045852002e-05, 'WEIGHT_DECAY': 6.42915780647941e-06}. Best is trial 0 with value: 0.24377321805937072.\n",
      "100%|██████████| 2669/2669 [00:37<00:00, 70.28it/s] \n",
      "100%|██████████| 2669/2669 [00:38<00:00, 69.56it/s] \n",
      "100%|██████████| 2669/2669 [00:37<00:00, 70.58it/s] \n",
      "100%|██████████| 2669/2669 [00:37<00:00, 70.60it/s] \n",
      "100%|██████████| 2669/2669 [00:38<00:00, 70.08it/s] \n",
      "100%|██████████| 2669/2669 [00:38<00:00, 69.52it/s] \n",
      "100%|██████████| 2669/2669 [00:37<00:00, 70.97it/s] \n",
      "100%|██████████| 2669/2669 [00:38<00:00, 68.93it/s] \n",
      "[I 2024-07-28 02:37:21,511] Trial 7 finished with value: 0.2518802856933986 and parameters: {'EMB_0': 20, 'EMB_1': 3, 'EMB_2': 40, 'EMB_3': 50, 'LAYERS_NUM': 0, 'LAYERS_DIM': 128, 'ACTIVATION': 'ReLU', 'DROPOUT': 0.040719627231116044, 'NUM_EPOCHS': 8, 'LR': 0.0015773983972140633, 'WEIGHT_DECAY': 3.469270683958178e-06}. Best is trial 0 with value: 0.24377321805937072.\n",
      "100%|██████████| 2669/2669 [00:37<00:00, 70.68it/s] \n",
      "100%|██████████| 2669/2669 [00:38<00:00, 69.91it/s] \n",
      "100%|██████████| 2669/2669 [00:38<00:00, 70.20it/s] \n",
      "100%|██████████| 2669/2669 [00:38<00:00, 70.07it/s] \n",
      "100%|██████████| 2669/2669 [00:37<00:00, 70.75it/s] \n",
      "100%|██████████| 2669/2669 [00:38<00:00, 69.91it/s] \n",
      "100%|██████████| 2669/2669 [00:37<00:00, 70.29it/s] \n",
      "100%|██████████| 2669/2669 [00:38<00:00, 69.34it/s] \n",
      "100%|██████████| 2669/2669 [00:37<00:00, 70.32it/s] \n",
      "100%|██████████| 2669/2669 [00:38<00:00, 69.69it/s] \n",
      "100%|██████████| 2669/2669 [00:38<00:00, 70.22it/s] \n",
      "100%|██████████| 2669/2669 [00:37<00:00, 70.56it/s] \n",
      "100%|██████████| 2669/2669 [00:38<00:00, 70.06it/s] \n",
      "100%|██████████| 2669/2669 [00:39<00:00, 68.35it/s] \n",
      "100%|██████████| 2669/2669 [00:38<00:00, 69.48it/s] \n",
      "100%|██████████| 2669/2669 [00:37<00:00, 70.48it/s] \n",
      "[I 2024-07-28 02:47:42,198] Trial 8 finished with value: 0.22876900149152635 and parameters: {'EMB_0': 10, 'EMB_1': 2, 'EMB_2': 25, 'EMB_3': 20, 'LAYERS_NUM': 0, 'LAYERS_DIM': 384, 'ACTIVATION': 'RReLU', 'DROPOUT': 0.10832212565600273, 'NUM_EPOCHS': 16, 'LR': 5.3133846339631435e-05, 'WEIGHT_DECAY': 0.0003075764524761468}. Best is trial 8 with value: 0.22876900149152635.\n",
      "100%|██████████| 2669/2669 [00:39<00:00, 67.34it/s]\n",
      "100%|██████████| 2669/2669 [00:40<00:00, 65.42it/s]\n",
      "100%|██████████| 2669/2669 [00:40<00:00, 65.34it/s]\n",
      "100%|██████████| 2669/2669 [00:40<00:00, 66.16it/s]\n",
      "100%|██████████| 2669/2669 [00:40<00:00, 65.12it/s]\n",
      "100%|██████████| 2669/2669 [00:40<00:00, 65.88it/s]\n",
      "100%|██████████| 2669/2669 [00:40<00:00, 66.09it/s] \n",
      "100%|██████████| 2669/2669 [00:40<00:00, 65.65it/s]\n",
      "100%|██████████| 2669/2669 [00:40<00:00, 66.12it/s]\n",
      "100%|██████████| 2669/2669 [00:40<00:00, 66.37it/s]\n",
      "100%|██████████| 2669/2669 [00:40<00:00, 66.22it/s]\n",
      "100%|██████████| 2669/2669 [00:40<00:00, 65.83it/s]\n",
      "100%|██████████| 2669/2669 [00:40<00:00, 66.27it/s]\n",
      "100%|██████████| 2669/2669 [00:41<00:00, 64.98it/s]\n",
      "100%|██████████| 2669/2669 [00:40<00:00, 65.49it/s]\n",
      "100%|██████████| 2669/2669 [00:40<00:00, 65.58it/s]\n",
      "100%|██████████| 2669/2669 [00:40<00:00, 65.17it/s]\n",
      "100%|██████████| 2669/2669 [00:40<00:00, 65.98it/s]\n",
      "100%|██████████| 2669/2669 [00:40<00:00, 66.32it/s]\n",
      "100%|██████████| 2669/2669 [00:40<00:00, 65.93it/s]\n",
      "100%|██████████| 2669/2669 [00:40<00:00, 65.79it/s]\n",
      "100%|██████████| 2669/2669 [00:40<00:00, 65.36it/s]\n",
      "100%|██████████| 2669/2669 [00:40<00:00, 65.87it/s]\n",
      "100%|██████████| 2669/2669 [00:41<00:00, 64.98it/s]\n",
      "[I 2024-07-28 03:04:10,594] Trial 9 finished with value: 0.21794959406057993 and parameters: {'EMB_0': 25, 'EMB_1': 2, 'EMB_2': 25, 'EMB_3': 45, 'LAYERS_NUM': 1, 'LAYERS_DIM': 256, 'ACTIVATION': 'RReLU', 'DROPOUT': 0.1901742065252291, 'NUM_EPOCHS': 24, 'LR': 0.0002776272103152545, 'WEIGHT_DECAY': 0.0001885523357774817}. Best is trial 9 with value: 0.21794959406057993.\n",
      "100%|██████████| 2669/2669 [00:43<00:00, 61.35it/s]\n",
      "100%|██████████| 2669/2669 [00:44<00:00, 60.56it/s]\n",
      "100%|██████████| 2669/2669 [00:43<00:00, 61.97it/s]\n",
      "100%|██████████| 2669/2669 [00:43<00:00, 61.01it/s]\n",
      "100%|██████████| 2669/2669 [00:43<00:00, 61.23it/s]\n",
      "100%|██████████| 2669/2669 [00:43<00:00, 61.12it/s]\n",
      "100%|██████████| 2669/2669 [00:42<00:00, 62.12it/s]\n",
      "100%|██████████| 2669/2669 [00:43<00:00, 61.56it/s]\n",
      "100%|██████████| 2669/2669 [00:43<00:00, 61.16it/s]\n",
      "100%|██████████| 2669/2669 [00:42<00:00, 62.27it/s]\n",
      "100%|██████████| 2669/2669 [00:44<00:00, 60.17it/s]\n",
      "100%|██████████| 2669/2669 [00:43<00:00, 61.52it/s]\n",
      "100%|██████████| 2669/2669 [00:43<00:00, 60.88it/s]\n",
      "100%|██████████| 2669/2669 [00:44<00:00, 60.41it/s]\n",
      "100%|██████████| 2669/2669 [00:42<00:00, 62.15it/s]\n",
      "100%|██████████| 2669/2669 [00:43<00:00, 61.43it/s]\n",
      "100%|██████████| 2669/2669 [00:44<00:00, 59.81it/s]\n",
      "100%|██████████| 2669/2669 [00:43<00:00, 60.83it/s]\n",
      "100%|██████████| 2669/2669 [00:43<00:00, 61.51it/s]\n",
      "100%|██████████| 2669/2669 [00:43<00:00, 61.08it/s]\n",
      "100%|██████████| 2669/2669 [00:43<00:00, 61.79it/s]\n",
      "100%|██████████| 2669/2669 [00:44<00:00, 60.46it/s]\n",
      "100%|██████████| 2669/2669 [00:43<00:00, 61.41it/s]\n",
      "100%|██████████| 2669/2669 [00:43<00:00, 61.29it/s]\n",
      "100%|██████████| 2669/2669 [00:43<00:00, 61.65it/s]\n",
      "100%|██████████| 2669/2669 [00:43<00:00, 60.87it/s]\n",
      "100%|██████████| 2669/2669 [00:43<00:00, 61.32it/s]\n",
      "100%|██████████| 2669/2669 [00:43<00:00, 61.10it/s]\n",
      "100%|██████████| 2669/2669 [00:43<00:00, 61.47it/s]\n",
      "100%|██████████| 2669/2669 [00:43<00:00, 61.11it/s]\n",
      "100%|██████████| 2669/2669 [00:43<00:00, 61.22it/s]\n",
      "100%|██████████| 2669/2669 [00:43<00:00, 60.94it/s]\n",
      "[I 2024-07-28 03:27:45,211] Trial 10 finished with value: 0.2159114882667014 and parameters: {'EMB_0': 20, 'EMB_1': 2, 'EMB_2': 20, 'EMB_3': 45, 'LAYERS_NUM': 2, 'LAYERS_DIM': 512, 'ACTIVATION': 'RReLU', 'DROPOUT': 0.15284954703052966, 'NUM_EPOCHS': 32, 'LR': 0.0003844770042329399, 'WEIGHT_DECAY': 3.7598205078875676e-05}. Best is trial 10 with value: 0.2159114882667014.\n",
      "100%|██████████| 2669/2669 [00:43<00:00, 61.09it/s]\n",
      "100%|██████████| 2669/2669 [00:44<00:00, 60.34it/s]\n",
      "100%|██████████| 2669/2669 [00:43<00:00, 61.64it/s]\n",
      "100%|██████████| 2669/2669 [00:43<00:00, 61.33it/s]\n",
      "100%|██████████| 2669/2669 [00:43<00:00, 61.60it/s]\n",
      "100%|██████████| 2669/2669 [00:43<00:00, 61.64it/s]\n",
      "100%|██████████| 2669/2669 [00:43<00:00, 61.62it/s]\n",
      "100%|██████████| 2669/2669 [00:43<00:00, 60.66it/s]\n",
      "100%|██████████| 2669/2669 [00:43<00:00, 60.83it/s]\n",
      "100%|██████████| 2669/2669 [00:43<00:00, 61.33it/s]\n",
      "100%|██████████| 2669/2669 [00:43<00:00, 60.98it/s]\n",
      "100%|██████████| 2669/2669 [00:43<00:00, 60.66it/s]\n",
      "100%|██████████| 2669/2669 [00:43<00:00, 61.52it/s]\n",
      "100%|██████████| 2669/2669 [00:44<00:00, 60.23it/s]\n",
      "100%|██████████| 2669/2669 [00:43<00:00, 61.09it/s]\n",
      "100%|██████████| 2669/2669 [00:43<00:00, 61.11it/s]\n",
      "100%|██████████| 2669/2669 [00:43<00:00, 61.59it/s]\n",
      "100%|██████████| 2669/2669 [00:43<00:00, 61.54it/s]\n",
      "100%|██████████| 2669/2669 [00:43<00:00, 62.03it/s]\n",
      "100%|██████████| 2669/2669 [00:43<00:00, 61.32it/s]\n",
      "100%|██████████| 2669/2669 [00:43<00:00, 61.98it/s]\n",
      "100%|██████████| 2669/2669 [00:43<00:00, 61.92it/s]\n",
      "100%|██████████| 2669/2669 [00:43<00:00, 61.18it/s]\n",
      "100%|██████████| 2669/2669 [00:43<00:00, 61.77it/s]\n",
      "100%|██████████| 2669/2669 [00:43<00:00, 61.18it/s]\n",
      "100%|██████████| 2669/2669 [00:44<00:00, 60.18it/s]\n",
      "100%|██████████| 2669/2669 [00:43<00:00, 60.98it/s]\n",
      "100%|██████████| 2669/2669 [00:43<00:00, 61.45it/s]\n",
      "100%|██████████| 2669/2669 [00:43<00:00, 60.83it/s]\n",
      "100%|██████████| 2669/2669 [00:44<00:00, 60.48it/s]\n",
      "100%|██████████| 2669/2669 [00:43<00:00, 61.43it/s]\n",
      "100%|██████████| 2669/2669 [00:43<00:00, 61.81it/s]\n",
      "[I 2024-07-28 03:51:19,615] Trial 11 finished with value: 0.21555464403003666 and parameters: {'EMB_0': 20, 'EMB_1': 2, 'EMB_2': 20, 'EMB_3': 45, 'LAYERS_NUM': 2, 'LAYERS_DIM': 512, 'ACTIVATION': 'RReLU', 'DROPOUT': 0.151822304454513, 'NUM_EPOCHS': 32, 'LR': 0.0003864713197640973, 'WEIGHT_DECAY': 3.595891704187288e-05}. Best is trial 11 with value: 0.21555464403003666.\n",
      "100%|██████████| 2669/2669 [00:42<00:00, 62.14it/s]\n",
      "100%|██████████| 2669/2669 [00:43<00:00, 61.75it/s]\n",
      "100%|██████████| 2669/2669 [00:43<00:00, 61.49it/s]\n",
      "100%|██████████| 2669/2669 [00:43<00:00, 61.30it/s]\n",
      "100%|██████████| 2669/2669 [00:43<00:00, 60.72it/s]\n",
      "100%|██████████| 2669/2669 [00:43<00:00, 61.18it/s]\n",
      "100%|██████████| 2669/2669 [00:43<00:00, 61.66it/s]\n",
      "100%|██████████| 2669/2669 [00:43<00:00, 60.75it/s]\n",
      "100%|██████████| 2669/2669 [00:43<00:00, 61.48it/s]\n",
      "100%|██████████| 2669/2669 [00:43<00:00, 60.91it/s]\n",
      "100%|██████████| 2669/2669 [00:43<00:00, 61.51it/s]\n",
      "100%|██████████| 2669/2669 [00:44<00:00, 60.66it/s]\n",
      "100%|██████████| 2669/2669 [00:43<00:00, 61.52it/s]\n",
      "100%|██████████| 2669/2669 [00:44<00:00, 60.24it/s]\n",
      "100%|██████████| 2669/2669 [00:43<00:00, 61.50it/s]\n",
      "100%|██████████| 2669/2669 [00:43<00:00, 61.33it/s]\n",
      "100%|██████████| 2669/2669 [00:44<00:00, 59.60it/s]\n",
      "100%|██████████| 2669/2669 [00:43<00:00, 61.03it/s]\n",
      "100%|██████████| 2669/2669 [00:44<00:00, 60.30it/s]\n",
      "100%|██████████| 2669/2669 [00:43<00:00, 61.49it/s]\n",
      "100%|██████████| 2669/2669 [00:43<00:00, 61.51it/s]\n",
      "100%|██████████| 2669/2669 [00:43<00:00, 61.68it/s]\n",
      "100%|██████████| 2669/2669 [00:43<00:00, 61.51it/s]\n",
      "100%|██████████| 2669/2669 [00:44<00:00, 59.93it/s]\n",
      "100%|██████████| 2669/2669 [00:43<00:00, 61.63it/s]\n",
      "100%|██████████| 2669/2669 [00:44<00:00, 60.60it/s]\n",
      "100%|██████████| 2669/2669 [00:43<00:00, 61.50it/s]\n",
      "100%|██████████| 2669/2669 [00:43<00:00, 61.23it/s]\n",
      "100%|██████████| 2669/2669 [00:43<00:00, 61.18it/s]\n",
      "100%|██████████| 2669/2669 [00:43<00:00, 61.12it/s]\n",
      "100%|██████████| 2669/2669 [00:43<00:00, 61.07it/s]\n",
      "100%|██████████| 2669/2669 [00:44<00:00, 60.53it/s]\n",
      "[I 2024-07-28 04:14:56,102] Trial 12 finished with value: 0.2140982579043571 and parameters: {'EMB_0': 20, 'EMB_1': 2, 'EMB_2': 20, 'EMB_3': 40, 'LAYERS_NUM': 2, 'LAYERS_DIM': 512, 'ACTIVATION': 'RReLU', 'DROPOUT': 0.14025745482589522, 'NUM_EPOCHS': 32, 'LR': 0.000513696793842195, 'WEIGHT_DECAY': 2.6115762673933227e-05}. Best is trial 12 with value: 0.2140982579043571.\n",
      "100%|██████████| 2669/2669 [00:44<00:00, 60.17it/s]\n",
      "100%|██████████| 2669/2669 [00:43<00:00, 61.52it/s]\n",
      "100%|██████████| 2669/2669 [00:43<00:00, 61.25it/s]\n",
      "100%|██████████| 2669/2669 [00:43<00:00, 61.33it/s]\n",
      "100%|██████████| 2669/2669 [00:43<00:00, 61.40it/s]\n",
      "100%|██████████| 2669/2669 [00:43<00:00, 61.19it/s]\n",
      "100%|██████████| 2669/2669 [00:43<00:00, 60.87it/s]\n",
      "100%|██████████| 2669/2669 [00:43<00:00, 61.49it/s]\n",
      "100%|██████████| 2669/2669 [00:42<00:00, 62.10it/s]\n",
      "100%|██████████| 2669/2669 [00:44<00:00, 60.54it/s]\n",
      "100%|██████████| 2669/2669 [00:43<00:00, 61.43it/s]\n",
      "100%|██████████| 2669/2669 [00:43<00:00, 61.31it/s]\n",
      "100%|██████████| 2669/2669 [00:43<00:00, 61.63it/s]\n",
      "100%|██████████| 2669/2669 [00:44<00:00, 60.59it/s]\n",
      "100%|██████████| 2669/2669 [00:42<00:00, 62.37it/s]\n",
      "100%|██████████| 2669/2669 [00:43<00:00, 60.91it/s]\n",
      "100%|██████████| 2669/2669 [00:43<00:00, 61.44it/s]\n",
      "100%|██████████| 2669/2669 [00:43<00:00, 61.22it/s]\n",
      "100%|██████████| 2669/2669 [00:43<00:00, 60.81it/s]\n",
      "100%|██████████| 2669/2669 [00:43<00:00, 60.78it/s]\n",
      "100%|██████████| 2669/2669 [00:43<00:00, 60.98it/s]\n",
      "100%|██████████| 2669/2669 [00:44<00:00, 60.42it/s]\n",
      "100%|██████████| 2669/2669 [00:43<00:00, 60.84it/s]\n",
      "100%|██████████| 2669/2669 [00:44<00:00, 60.00it/s]\n",
      "100%|██████████| 2669/2669 [00:43<00:00, 60.76it/s]\n",
      "100%|██████████| 2669/2669 [00:44<00:00, 60.51it/s]\n",
      "100%|██████████| 2669/2669 [00:43<00:00, 60.72it/s]\n",
      "100%|██████████| 2669/2669 [00:43<00:00, 61.25it/s]\n",
      "100%|██████████| 2669/2669 [00:44<00:00, 60.40it/s]\n",
      "100%|██████████| 2669/2669 [00:43<00:00, 61.22it/s]\n",
      "100%|██████████| 2669/2669 [00:43<00:00, 61.22it/s]\n",
      "100%|██████████| 2669/2669 [00:44<00:00, 60.52it/s]\n",
      "[I 2024-07-28 04:38:34,709] Trial 13 finished with value: 0.2139903781473214 and parameters: {'EMB_0': 20, 'EMB_1': 2, 'EMB_2': 20, 'EMB_3': 40, 'LAYERS_NUM': 2, 'LAYERS_DIM': 512, 'ACTIVATION': 'RReLU', 'DROPOUT': 0.1324328762358669, 'NUM_EPOCHS': 32, 'LR': 0.0009757998852086774, 'WEIGHT_DECAY': 2.1846274219763054e-05}. Best is trial 13 with value: 0.2139903781473214.\n",
      "100%|██████████| 2669/2669 [00:44<00:00, 60.37it/s]\n",
      "100%|██████████| 2669/2669 [00:43<00:00, 61.09it/s]\n",
      "100%|██████████| 2669/2669 [00:43<00:00, 60.78it/s]\n",
      "100%|██████████| 2669/2669 [00:43<00:00, 61.75it/s]\n",
      "100%|██████████| 2669/2669 [00:44<00:00, 60.10it/s]\n",
      "100%|██████████| 2669/2669 [00:43<00:00, 61.10it/s]\n",
      "100%|██████████| 2669/2669 [00:44<00:00, 60.57it/s]\n",
      "100%|██████████| 2669/2669 [00:43<00:00, 60.78it/s]\n",
      "100%|██████████| 2669/2669 [00:43<00:00, 61.68it/s]\n",
      "100%|██████████| 2669/2669 [00:43<00:00, 61.32it/s]\n",
      "100%|██████████| 2669/2669 [00:43<00:00, 61.90it/s]\n",
      "100%|██████████| 2669/2669 [00:43<00:00, 61.10it/s]\n",
      "100%|██████████| 2669/2669 [00:44<00:00, 59.68it/s]\n",
      "100%|██████████| 2669/2669 [00:44<00:00, 59.62it/s]\n",
      "100%|██████████| 2669/2669 [00:43<00:00, 61.70it/s]\n",
      "100%|██████████| 2669/2669 [00:44<00:00, 60.21it/s]\n",
      "100%|██████████| 2669/2669 [00:43<00:00, 60.66it/s]\n",
      "100%|██████████| 2669/2669 [00:43<00:00, 60.91it/s]\n",
      "100%|██████████| 2669/2669 [00:44<00:00, 59.39it/s]\n",
      "100%|██████████| 2669/2669 [00:44<00:00, 59.38it/s]\n",
      "100%|██████████| 2669/2669 [00:44<00:00, 60.20it/s]\n",
      "100%|██████████| 2669/2669 [00:44<00:00, 59.83it/s]\n",
      "100%|██████████| 2669/2669 [00:43<00:00, 61.58it/s]\n",
      "100%|██████████| 2669/2669 [00:44<00:00, 60.00it/s]\n",
      "100%|██████████| 2669/2669 [00:43<00:00, 61.17it/s]\n",
      "100%|██████████| 2669/2669 [00:44<00:00, 60.40it/s]\n",
      "100%|██████████| 2669/2669 [00:43<00:00, 60.69it/s]\n",
      "100%|██████████| 2669/2669 [00:43<00:00, 61.07it/s]\n",
      "[I 2024-07-28 04:59:21,532] Trial 14 pruned. \n",
      "100%|██████████| 2669/2669 [00:44<00:00, 59.31it/s]\n",
      "100%|██████████| 2669/2669 [00:44<00:00, 60.15it/s]\n",
      "100%|██████████| 2669/2669 [00:43<00:00, 60.90it/s]\n",
      "100%|██████████| 2669/2669 [00:43<00:00, 61.10it/s]\n",
      "100%|██████████| 2669/2669 [00:44<00:00, 60.42it/s]\n",
      "100%|██████████| 2669/2669 [00:44<00:00, 59.86it/s]\n",
      "100%|██████████| 2669/2669 [00:44<00:00, 60.59it/s]\n",
      "100%|██████████| 2669/2669 [00:43<00:00, 60.81it/s]\n",
      "100%|██████████| 2669/2669 [00:44<00:00, 60.43it/s]\n",
      "100%|██████████| 2669/2669 [00:44<00:00, 59.43it/s]\n",
      "100%|██████████| 2669/2669 [00:45<00:00, 59.00it/s]\n",
      "100%|██████████| 2669/2669 [00:44<00:00, 59.93it/s]\n",
      "100%|██████████| 2669/2669 [00:44<00:00, 60.46it/s]\n",
      "100%|██████████| 2669/2669 [00:43<00:00, 60.99it/s]\n",
      "100%|██████████| 2669/2669 [00:43<00:00, 61.13it/s]\n",
      "100%|██████████| 2669/2669 [00:43<00:00, 60.69it/s]\n",
      "[I 2024-07-28 05:11:18,007] Trial 15 pruned. \n",
      "100%|██████████| 2669/2669 [00:44<00:00, 59.85it/s]\n",
      "100%|██████████| 2669/2669 [00:44<00:00, 60.14it/s]\n",
      "100%|██████████| 2669/2669 [00:44<00:00, 59.57it/s]\n",
      "100%|██████████| 2669/2669 [00:44<00:00, 60.54it/s]\n",
      "100%|██████████| 2669/2669 [00:44<00:00, 60.38it/s]\n",
      "100%|██████████| 2669/2669 [00:44<00:00, 60.13it/s]\n",
      "100%|██████████| 2669/2669 [00:43<00:00, 60.91it/s]\n",
      "100%|██████████| 2669/2669 [00:43<00:00, 61.30it/s]\n",
      "100%|██████████| 2669/2669 [00:43<00:00, 60.83it/s]\n",
      "100%|██████████| 2669/2669 [00:44<00:00, 59.78it/s]\n",
      "100%|██████████| 2669/2669 [00:44<00:00, 59.56it/s]\n",
      "100%|██████████| 2669/2669 [00:44<00:00, 60.02it/s]\n",
      "100%|██████████| 2669/2669 [00:44<00:00, 60.02it/s]\n",
      "100%|██████████| 2669/2669 [00:44<00:00, 60.28it/s]\n",
      "100%|██████████| 2669/2669 [00:44<00:00, 60.59it/s]\n",
      "100%|██████████| 2669/2669 [00:44<00:00, 60.41it/s]\n",
      "100%|██████████| 2669/2669 [00:45<00:00, 58.80it/s]\n",
      "100%|██████████| 2669/2669 [00:44<00:00, 60.21it/s]\n",
      "100%|██████████| 2669/2669 [00:44<00:00, 60.34it/s]\n",
      "100%|██████████| 2669/2669 [00:44<00:00, 60.53it/s]\n",
      "[I 2024-07-28 05:26:15,541] Trial 16 pruned. \n",
      "100%|██████████| 2669/2669 [00:41<00:00, 63.98it/s]\n",
      "100%|██████████| 2669/2669 [00:41<00:00, 63.70it/s]\n",
      "100%|██████████| 2669/2669 [00:41<00:00, 64.26it/s]\n",
      "100%|██████████| 2669/2669 [00:41<00:00, 64.95it/s]\n",
      "100%|██████████| 2669/2669 [00:41<00:00, 64.58it/s]\n",
      "100%|██████████| 2669/2669 [00:41<00:00, 64.50it/s]\n",
      "100%|██████████| 2669/2669 [00:41<00:00, 64.62it/s]\n",
      "100%|██████████| 2669/2669 [00:41<00:00, 64.60it/s]\n",
      "100%|██████████| 2669/2669 [00:40<00:00, 65.38it/s]\n",
      "100%|██████████| 2669/2669 [00:41<00:00, 64.41it/s]\n",
      "100%|██████████| 2669/2669 [00:41<00:00, 63.80it/s]\n",
      "100%|██████████| 2669/2669 [00:41<00:00, 64.53it/s]\n",
      "100%|██████████| 2669/2669 [00:42<00:00, 62.46it/s]\n",
      "100%|██████████| 2669/2669 [00:41<00:00, 63.86it/s]\n",
      "100%|██████████| 2669/2669 [00:41<00:00, 64.50it/s]\n",
      "100%|██████████| 2669/2669 [00:41<00:00, 64.56it/s]\n",
      "[I 2024-07-28 05:37:28,551] Trial 17 pruned. \n",
      "100%|██████████| 2669/2669 [00:44<00:00, 59.65it/s]\n",
      "100%|██████████| 2669/2669 [00:43<00:00, 61.28it/s]\n",
      "100%|██████████| 2669/2669 [00:44<00:00, 60.47it/s]\n",
      "100%|██████████| 2669/2669 [00:45<00:00, 59.01it/s]\n",
      "100%|██████████| 2669/2669 [00:43<00:00, 60.79it/s]\n",
      "100%|██████████| 2669/2669 [00:44<00:00, 60.32it/s]\n",
      "100%|██████████| 2669/2669 [00:44<00:00, 60.62it/s]\n",
      "100%|██████████| 2669/2669 [00:44<00:00, 60.13it/s]\n",
      "100%|██████████| 2669/2669 [00:44<00:00, 60.61it/s]\n",
      "100%|██████████| 2669/2669 [00:43<00:00, 60.72it/s]\n",
      "100%|██████████| 2669/2669 [00:44<00:00, 59.94it/s]\n",
      "100%|██████████| 2669/2669 [00:44<00:00, 60.36it/s]\n",
      "100%|██████████| 2669/2669 [00:44<00:00, 60.10it/s]\n",
      "100%|██████████| 2669/2669 [00:44<00:00, 60.51it/s]\n",
      "100%|██████████| 2669/2669 [00:44<00:00, 59.47it/s]\n",
      "100%|██████████| 2669/2669 [00:44<00:00, 59.33it/s]\n",
      "100%|██████████| 2669/2669 [00:43<00:00, 61.35it/s]\n",
      "100%|██████████| 2669/2669 [00:43<00:00, 60.66it/s]\n",
      "100%|██████████| 2669/2669 [00:44<00:00, 60.10it/s]\n",
      "100%|██████████| 2669/2669 [00:44<00:00, 60.37it/s]\n",
      "100%|██████████| 2669/2669 [00:44<00:00, 59.82it/s]\n",
      "100%|██████████| 2669/2669 [00:44<00:00, 59.70it/s]\n",
      "100%|██████████| 2669/2669 [00:44<00:00, 60.31it/s]\n",
      "100%|██████████| 2669/2669 [00:44<00:00, 59.48it/s]\n",
      "100%|██████████| 2669/2669 [00:43<00:00, 60.91it/s]\n",
      "100%|██████████| 2669/2669 [00:44<00:00, 59.79it/s]\n",
      "100%|██████████| 2669/2669 [00:44<00:00, 60.02it/s]\n",
      "100%|██████████| 2669/2669 [00:43<00:00, 60.92it/s]\n",
      "100%|██████████| 2669/2669 [00:44<00:00, 60.00it/s]\n",
      "100%|██████████| 2669/2669 [00:44<00:00, 60.43it/s]\n",
      "100%|██████████| 2669/2669 [00:44<00:00, 60.59it/s]\n",
      "100%|██████████| 2669/2669 [00:44<00:00, 59.66it/s]\n",
      "[I 2024-07-28 06:01:26,214] Trial 18 finished with value: 0.21559765522784374 and parameters: {'EMB_0': 20, 'EMB_1': 2, 'EMB_2': 20, 'EMB_3': 35, 'LAYERS_NUM': 2, 'LAYERS_DIM': 384, 'ACTIVATION': 'RReLU', 'DROPOUT': 0.0751548058889798, 'NUM_EPOCHS': 32, 'LR': 0.0006484532713930797, 'WEIGHT_DECAY': 1.4695690380780126e-05}. Best is trial 13 with value: 0.2139903781473214.\n",
      "100%|██████████| 2669/2669 [00:41<00:00, 63.57it/s]\n",
      "100%|██████████| 2669/2669 [00:41<00:00, 63.74it/s]\n",
      "100%|██████████| 2669/2669 [00:41<00:00, 64.83it/s]\n",
      "100%|██████████| 2669/2669 [00:41<00:00, 64.01it/s]\n",
      "100%|██████████| 2669/2669 [00:41<00:00, 64.83it/s]\n",
      "100%|██████████| 2669/2669 [00:41<00:00, 64.74it/s]\n",
      "100%|██████████| 2669/2669 [00:40<00:00, 65.10it/s]\n",
      "100%|██████████| 2669/2669 [00:41<00:00, 64.40it/s]\n",
      "100%|██████████| 2669/2669 [00:41<00:00, 65.03it/s]\n",
      "100%|██████████| 2669/2669 [00:41<00:00, 64.70it/s]\n",
      "100%|██████████| 2669/2669 [00:41<00:00, 64.83it/s]\n",
      "100%|██████████| 2669/2669 [00:41<00:00, 63.61it/s]\n",
      "100%|██████████| 2669/2669 [00:40<00:00, 65.82it/s]\n",
      "100%|██████████| 2669/2669 [00:41<00:00, 64.39it/s]\n",
      "100%|██████████| 2669/2669 [00:41<00:00, 64.43it/s]\n",
      "100%|██████████| 2669/2669 [00:41<00:00, 63.59it/s]\n",
      "[I 2024-07-28 06:12:37,246] Trial 19 pruned. \n",
      "100%|██████████| 2669/2669 [00:44<00:00, 59.96it/s]\n",
      "100%|██████████| 2669/2669 [00:43<00:00, 61.29it/s]\n",
      "100%|██████████| 2669/2669 [00:44<00:00, 60.19it/s]\n",
      "100%|██████████| 2669/2669 [00:43<00:00, 61.07it/s]\n",
      "100%|██████████| 2669/2669 [00:44<00:00, 60.49it/s]\n",
      "100%|██████████| 2669/2669 [00:44<00:00, 60.06it/s]\n",
      "100%|██████████| 2669/2669 [00:43<00:00, 61.30it/s]\n",
      "100%|██████████| 2669/2669 [00:43<00:00, 61.03it/s]\n",
      "100%|██████████| 2669/2669 [00:43<00:00, 60.71it/s]\n",
      "100%|██████████| 2669/2669 [00:44<00:00, 60.42it/s]\n",
      "100%|██████████| 2669/2669 [00:43<00:00, 61.29it/s]\n",
      "100%|██████████| 2669/2669 [00:44<00:00, 60.47it/s]\n",
      "100%|██████████| 2669/2669 [00:43<00:00, 60.75it/s]\n",
      "100%|██████████| 2669/2669 [00:44<00:00, 59.71it/s]\n",
      "100%|██████████| 2669/2669 [00:44<00:00, 59.77it/s]\n",
      "100%|██████████| 2669/2669 [00:45<00:00, 59.09it/s]\n",
      "[I 2024-07-28 06:24:31,970] Trial 20 pruned. \n",
      "100%|██████████| 2669/2669 [00:45<00:00, 59.07it/s]\n",
      "100%|██████████| 2669/2669 [00:45<00:00, 58.60it/s]\n",
      "100%|██████████| 2669/2669 [00:44<00:00, 59.59it/s]\n",
      "100%|██████████| 2669/2669 [00:44<00:00, 59.82it/s]\n",
      "100%|██████████| 2669/2669 [00:44<00:00, 59.98it/s]\n",
      "100%|██████████| 2669/2669 [00:45<00:00, 59.11it/s]\n",
      "100%|██████████| 2669/2669 [00:45<00:00, 58.57it/s]\n",
      "100%|██████████| 2669/2669 [00:44<00:00, 59.70it/s]\n",
      "100%|██████████| 2669/2669 [00:44<00:00, 60.65it/s]\n",
      "100%|██████████| 2669/2669 [00:43<00:00, 60.71it/s]\n",
      "100%|██████████| 2669/2669 [00:45<00:00, 58.66it/s]\n",
      "100%|██████████| 2669/2669 [00:43<00:00, 61.24it/s]\n",
      "100%|██████████| 2669/2669 [00:44<00:00, 59.78it/s]\n",
      "100%|██████████| 2669/2669 [00:45<00:00, 59.08it/s]\n",
      "100%|██████████| 2669/2669 [00:45<00:00, 59.02it/s]\n",
      "100%|██████████| 2669/2669 [00:45<00:00, 59.24it/s]\n",
      "100%|██████████| 2669/2669 [00:45<00:00, 58.81it/s]\n",
      "100%|██████████| 2669/2669 [00:44<00:00, 60.54it/s]\n",
      "100%|██████████| 2669/2669 [00:45<00:00, 59.09it/s]\n",
      "100%|██████████| 2669/2669 [00:44<00:00, 59.43it/s]\n",
      "100%|██████████| 2669/2669 [00:44<00:00, 59.80it/s]\n",
      "100%|██████████| 2669/2669 [00:45<00:00, 59.27it/s]\n",
      "100%|██████████| 2669/2669 [00:44<00:00, 59.58it/s]\n",
      "100%|██████████| 2669/2669 [00:44<00:00, 59.73it/s]\n",
      "100%|██████████| 2669/2669 [00:45<00:00, 58.82it/s]\n",
      "100%|██████████| 2669/2669 [00:44<00:00, 60.65it/s]\n",
      "100%|██████████| 2669/2669 [00:44<00:00, 60.19it/s]\n",
      "100%|██████████| 2669/2669 [00:44<00:00, 59.85it/s]\n",
      "100%|██████████| 2669/2669 [00:44<00:00, 59.42it/s]\n",
      "100%|██████████| 2669/2669 [00:44<00:00, 60.01it/s]\n",
      "100%|██████████| 2669/2669 [00:44<00:00, 59.82it/s]\n",
      "100%|██████████| 2669/2669 [00:45<00:00, 58.89it/s]\n",
      "[I 2024-07-28 06:48:44,737] Trial 21 finished with value: 0.21572861476992886 and parameters: {'EMB_0': 20, 'EMB_1': 2, 'EMB_2': 20, 'EMB_3': 45, 'LAYERS_NUM': 2, 'LAYERS_DIM': 512, 'ACTIVATION': 'RReLU', 'DROPOUT': 0.1432125309137619, 'NUM_EPOCHS': 32, 'LR': 0.0005061339440348206, 'WEIGHT_DECAY': 2.2038837311828638e-05}. Best is trial 13 with value: 0.2139903781473214.\n",
      "100%|██████████| 2669/2669 [00:44<00:00, 59.66it/s]\n",
      "100%|██████████| 2669/2669 [00:44<00:00, 60.08it/s]\n",
      "100%|██████████| 2669/2669 [00:44<00:00, 59.57it/s]\n",
      "100%|██████████| 2669/2669 [00:44<00:00, 59.87it/s]\n",
      "100%|██████████| 2669/2669 [00:44<00:00, 59.58it/s]\n",
      "100%|██████████| 2669/2669 [00:44<00:00, 59.61it/s]\n",
      "100%|██████████| 2669/2669 [00:44<00:00, 59.64it/s]\n",
      "100%|██████████| 2669/2669 [00:44<00:00, 59.84it/s]\n",
      "100%|██████████| 2669/2669 [00:44<00:00, 60.16it/s]\n",
      "100%|██████████| 2669/2669 [00:44<00:00, 59.54it/s]\n",
      "100%|██████████| 2669/2669 [00:44<00:00, 59.60it/s]\n",
      "100%|██████████| 2669/2669 [00:44<00:00, 59.59it/s]\n",
      "100%|██████████| 2669/2669 [00:45<00:00, 59.30it/s]\n",
      "100%|██████████| 2669/2669 [00:44<00:00, 59.88it/s]\n",
      "100%|██████████| 2669/2669 [00:44<00:00, 60.05it/s]\n",
      "100%|██████████| 2669/2669 [00:44<00:00, 59.91it/s]\n",
      "100%|██████████| 2669/2669 [00:44<00:00, 59.86it/s]\n",
      "100%|██████████| 2669/2669 [00:45<00:00, 58.30it/s]\n",
      "100%|██████████| 2669/2669 [00:44<00:00, 60.12it/s]\n",
      "100%|██████████| 2669/2669 [00:44<00:00, 59.41it/s]\n",
      "100%|██████████| 2669/2669 [00:44<00:00, 60.29it/s]\n",
      "100%|██████████| 2669/2669 [00:44<00:00, 59.52it/s]\n",
      "100%|██████████| 2669/2669 [00:44<00:00, 60.35it/s]\n",
      "100%|██████████| 2669/2669 [00:45<00:00, 58.41it/s]\n",
      "100%|██████████| 2669/2669 [00:44<00:00, 59.54it/s]\n",
      "100%|██████████| 2669/2669 [00:44<00:00, 59.75it/s]\n",
      "100%|██████████| 2669/2669 [00:45<00:00, 59.06it/s]\n",
      "100%|██████████| 2669/2669 [00:44<00:00, 59.79it/s]\n",
      " 55%|█████▌    | 1480/2669 [00:28<00:16, 73.38it/s]"
     ]
    }
   ],
   "source": [
    "# sampler = optuna.samplers.TPESampler(seed=SEED)\n",
    "# # storage = optuna.storages.InMemoryStorage()\n",
    "\n",
    "# study = optuna.create_study(direction='minimize', sampler=sampler,\n",
    "#                             study_name='cosemb-study_cosdist4', storage='sqlite:///cosemb-study_cosdist.db', load_if_exists=True,\n",
    "#                             pruner=optuna.pruners.MedianPruner(n_startup_trials=10,\n",
    "#                                                                n_warmup_steps=16)\n",
    "#                            )\n",
    "# study.optimize(objective, n_trials=200)\n"
   ]
  },
  {
   "cell_type": "markdown",
   "id": "3aad2a61-44a3-4b7c-9ffd-8a18ed16e26a",
   "metadata": {
    "jp-MarkdownHeadingCollapsed": true
   },
   "source": [
    "### NeuralNetwork Head"
   ]
  },
  {
   "cell_type": "markdown",
   "id": "bfabef43-7c72-4379-b1dc-51b3a37587a2",
   "metadata": {
    "jp-MarkdownHeadingCollapsed": true
   },
   "source": [
    "##### DataSet"
   ]
  },
  {
   "cell_type": "code",
   "execution_count": 53,
   "id": "94c32265-142b-479a-852d-5337bc70df15",
   "metadata": {},
   "outputs": [],
   "source": [
    "class Base_Dataset(Dataset):\n",
    "    def __init__(self, df, is_eval=False, is_test=False):\n",
    "        \n",
    "        self.df = df\n",
    "        self.is_eval = is_eval\n",
    "        self.is_test = is_test\n",
    "\n",
    "        if self.is_test:\n",
    "            self.X = self.df\n",
    "        else:\n",
    "            self.X, self.y = self.df.drop(target, axis=1), self.df[target].values\n",
    "        \n",
    "        if self.is_test or self.is_eval:\n",
    "            self.X = pipeline.transform(self.X)\n",
    "        else:\n",
    "            self.X = pipeline.fit_transform(self.X)\n",
    "        gc.collect()\n",
    "\n",
    "    def __getitem__(self, index):\n",
    "        if self.is_test: return self.X[index], None\n",
    "        return self.X[index], self.y[index]\n",
    "\n",
    "    def __len__(self):\n",
    "        return self.X.shape[0]\n",
    "\n",
    "class Embedded_Dataset():\n",
    "    def __init__(self, df, embedder,\n",
    "                 is_eval=False, is_test=False,\n",
    "                 dtype='float32'):\n",
    "        \n",
    "        self.df = df\n",
    "        self.is_eval = is_eval\n",
    "        self.is_test = is_test\n",
    "        self.dataset = Base_Dataset(df, is_eval=self.is_eval, is_test=self.is_test)\n",
    "        self.embedder = embedder\n",
    "        self.embedder.to(DEVICE)\n",
    "        self.embedder.eval()\n",
    "        for p in self.embedder.parameters():\n",
    "            p.requires_grad = False\n",
    "        self.dtype = dtype\n",
    "        gc.collect()\n",
    "\n",
    "    def __getitem__(self, index):\n",
    "        X, y = self.dataset[index]\n",
    "        X, y = torch.Tensor(X).to(DEVICE),\\\n",
    "               torch.Tensor(y).to(DEVICE)\n",
    "        X = embedder.make_embs(X)\n",
    "        # X, y = X.detach().cpu().numpy(),\\\n",
    "        #        y.detach().cpu().numpy()\n",
    "\n",
    "        return X, y\n",
    "\n",
    "    def __len__(self):\n",
    "        return len(self.dataset)\n"
   ]
  },
  {
   "cell_type": "markdown",
   "id": "626571db-eb8f-4c94-bfa9-679c30ec072f",
   "metadata": {
    "jp-MarkdownHeadingCollapsed": true
   },
   "source": [
    "##### FCNNet Model Structure"
   ]
  },
  {
   "cell_type": "code",
   "execution_count": 54,
   "id": "6d20b1e5-ba08-4aad-816c-256502d1ceae",
   "metadata": {},
   "outputs": [],
   "source": [
    "class FCNNet(nn.Module):\n",
    "    def __init__(self,\n",
    "                 input_dim: int = 6+25+2+50+50,\n",
    "                 layers_num: int = 0,\n",
    "                 layers_dim: int = 256,\n",
    "                 activation = nn.ReLU,\n",
    "                 dropout: float = 0.,\n",
    "                 embedder = False,\n",
    "                ):\n",
    "        super(FCNNet, self).__init__()\n",
    "    \n",
    "        self.embedder = embedder\n",
    "    \n",
    "        fc_layers = []\n",
    "        # fc_layers.append(nn.LazyBatchNorm1d())\n",
    "        # fc_layers.append(nn.Linear(input_dim, layers_dim))\n",
    "        fc_layers.append(nn.LazyBatchNorm1d())\n",
    "        fc_layers.append(activation())\n",
    "        fc_layers.append(nn.Dropout(p=dropout))\n",
    "        for i in range(layers_num):\n",
    "            fc_layers.append(nn.Linear(layers_dim, layers_dim))\n",
    "            fc_layers.append(nn.LazyBatchNorm1d())\n",
    "            fc_layers.append(activation())\n",
    "            fc_layers.append(nn.Dropout(p=dropout))\n",
    "        fc_layers.append(nn.Linear(input_dim, 1))\n",
    "    \n",
    "        self.fc_layers = nn.Sequential(*fc_layers)\n",
    "\n",
    "    def forward(self, x: torch.Tensor) -> torch.Tensor:\n",
    "        x = self.embedder.make_embs(x)\n",
    "        x = self.fc_layers(x)\n",
    "        return x\n",
    "    "
   ]
  },
  {
   "cell_type": "code",
   "execution_count": 55,
   "id": "97f4cafd-fd5b-442d-bdca-9b333f608586",
   "metadata": {},
   "outputs": [],
   "source": [
    "def train_epoch_fcnn(model, optimizer, loss_fn, train_dataloader, altmetric=None):\n",
    "    model.train()\n",
    "    losses = 0\n",
    "\n",
    "    for X, y in tqdm.tqdm(train_dataloader):\n",
    "        X, y = X.to(DEVICE), y.to(DEVICE)\n",
    "\n",
    "        preds = model(X)\n",
    "        optimizer.zero_grad()\n",
    "        loss = loss_fn(preds, y.float())\n",
    "        if altmetric: altmetric.update(preds,y.float())\n",
    "        \n",
    "        loss.backward()\n",
    "        optimizer.step()\n",
    "        losses += loss.item()\n",
    "\n",
    "    return losses / len(train_dataloader)\n",
    "    \n",
    "def evaluate_fcnn(model, loss_fn, test_dataloader, altmetric=None):\n",
    "    model.eval()\n",
    "    losses = 0\n",
    "\n",
    "    for X, y in test_dataloader:\n",
    "        X, y = X.to(DEVICE), y.to(DEVICE)\n",
    "        \n",
    "        preds = model(X)\n",
    "        loss = loss_fn(preds, y.float())\n",
    "        if altmetric: altmetric.update(preds,y.float())\n",
    "        losses += loss.item()\n",
    "\n",
    "    return losses / len(test_dataloader)\n"
   ]
  },
  {
   "cell_type": "markdown",
   "id": "9cdf9899-bff2-4517-9b79-a4690dd6170b",
   "metadata": {
    "jp-MarkdownHeadingCollapsed": true
   },
   "source": [
    "##### FCNNet Model training"
   ]
  },
  {
   "cell_type": "code",
   "execution_count": 134,
   "id": "cb5fb1be-0e8b-4ac2-b89e-14d947d37cee",
   "metadata": {},
   "outputs": [],
   "source": [
    "# embedder = torch.load('cosemb256-wnum-64_2.pth')\n",
    "# with open(PATH+'pipeline_2', 'rb') as fp:\n",
    "#     pipeline = pickle.load(fp)\n",
    "\n",
    "embedder = cosemb"
   ]
  },
  {
   "cell_type": "code",
   "execution_count": 57,
   "id": "2bbc32d0-6dea-44f1-941e-8f95f9901f1e",
   "metadata": {},
   "outputs": [
    {
     "data": {
      "text/plain": [
       "10929558"
      ]
     },
     "metadata": {},
     "output_type": "display_data"
    },
    {
     "data": {
      "text/plain": [
       "575240"
      ]
     },
     "metadata": {},
     "output_type": "display_data"
    },
    {
     "data": {
      "text/plain": [
       "7669866"
      ]
     },
     "metadata": {},
     "output_type": "display_data"
    }
   ],
   "source": [
    "df_train_train, df_train_eval = train_test_split(df_train, test_size=EVAL_SIZE, random_state=SEED,\n",
    "                                                 shuffle=True, stratify=df_train[target])\n",
    "\n",
    "dataset_train = Base_Dataset(df_train_train, is_eval=True)\n",
    "dataset_eval = Base_Dataset(df_train_eval, is_eval=True)\n",
    "dataset_test = Base_Dataset(df_test, is_test=True)\n",
    "\n",
    "display(len(dataset_train))\n",
    "display(len(dataset_eval))\n",
    "display(len(dataset_test))\n"
   ]
  },
  {
   "cell_type": "code",
   "execution_count": 139,
   "id": "8c6af2e0-6aad-426a-bd31-14014213c0f9",
   "metadata": {},
   "outputs": [
    {
     "name": "stderr",
     "output_type": "stream",
     "text": [
      "/home/gin/anaconda3/envs/env0/lib/python3.11/site-packages/torch/nn/modules/lazy.py:181: UserWarning: Lazy modules are a new feature under heavy development so changes to the API or functionality can happen at any moment.\n",
      "  warnings.warn('Lazy modules are a new feature under heavy development '\n"
     ]
    }
   ],
   "source": [
    "DEVICE = torch.device('cuda' if torch.cuda.is_available() else 'cpu')\n",
    "\n",
    "EMB_0, EMB_1, EMB_2, EMB_3 = 20, 2, 20, 40\n",
    "INPUT_DIM = 512 #6+EMB_0+EMB_1+EMB_2+EMB_3\n",
    "LAYERS_NUM = 0\n",
    "LAYERS_DIM = 512 #192\n",
    "ACTIVATION = nn.RReLU\n",
    "DROPOUT = 0.\n",
    "\n",
    "NUM_EPOCHS = 4\n",
    "BATCH_SIZE = 256\n",
    "LR = 0.0001 #0.001\n",
    "WEIGHT_DECAY = 1e-6\n",
    "\n",
    "fcnn = FCNNet(input_dim=INPUT_DIM,\n",
    "              layers_num=LAYERS_NUM,\n",
    "              layers_dim=LAYERS_DIM,\n",
    "              activation=ACTIVATION,\n",
    "              dropout=DROPOUT,\n",
    "              embedder=embedder\n",
    "              )\n",
    "\n",
    "altmetric_train = MetricCollection([AUROC(task='binary'),\n",
    "                                    Recall(task='binary'),\n",
    "                                    Precision(task='binary'),\n",
    "                                    F1Score(task='binary'),\n",
    "                                    Accuracy(task='binary')\n",
    "                                   ])\n",
    "altmetric_eval = MetricCollection([AUROC(task='binary'),\n",
    "                                   Recall(task='binary'),\n",
    "                                   Precision(task='binary'),\n",
    "                                   F1Score(task='binary'),\n",
    "                                   Accuracy(task='binary')\n",
    "                                  ])\n",
    "\n",
    "fcnn.to(DEVICE)\n",
    "altmetric_train.to(DEVICE)\n",
    "altmetric_eval.to(DEVICE)\n",
    "\n",
    "trainloader = torch.utils.data.DataLoader(dataset_train,\n",
    "                                          batch_size=BATCH_SIZE, shuffle=True,\n",
    "                                          num_workers=8, drop_last=False)\n",
    "evalloader = torch.utils.data.DataLoader(dataset_eval,\n",
    "                                         batch_size=BATCH_SIZE, shuffle=True,\n",
    "                                         num_workers=8, drop_last=False)\n",
    "\n",
    "loss_fn = nn.BCEWithLogitsLoss(\n",
    "                               # weight=torch.Tensor([8]).to(DEVICE),\n",
    "                               # pos_weight=torch.Tensor([8]).to(DEVICE)\n",
    "                              )\n",
    "optimizer = torch.optim.AdamW(fcnn.parameters(), lr=LR, weight_decay=WEIGHT_DECAY)\n"
   ]
  },
  {
   "cell_type": "code",
   "execution_count": 140,
   "id": "873af87c-d19e-4b40-9e7d-44dd53d1f6cd",
   "metadata": {},
   "outputs": [],
   "source": [
    "# fcnn.embeddings = cosemb.embeddings\n",
    "for p in fcnn.embedder.parameters():\n",
    "# for p in fcnn.embedder.embeddings.parameters():\n",
    "    p.requires_grad = False\n",
    "    # p.requires_grad = True"
   ]
  },
  {
   "cell_type": "code",
   "execution_count": 141,
   "id": "32cdf007-e6ac-4609-92e4-1f33e5942bf7",
   "metadata": {},
   "outputs": [],
   "source": [
    "# def weights_init(m):\n",
    "#     if isinstance(m, nn.Linear):\n",
    "#         torch.nn.init.xavier_uniform(m.weight.data)\n",
    "        \n",
    "# fcnn.apply(weights_init)"
   ]
  },
  {
   "cell_type": "code",
   "execution_count": 143,
   "id": "82a66887-78bb-44db-bfb9-9ff8971fa7c6",
   "metadata": {
    "scrolled": true
   },
   "outputs": [
    {
     "name": "stderr",
     "output_type": "stream",
     "text": [
      "100%|██████████| 42694/42694 [03:26<00:00, 206.74it/s]\n"
     ]
    },
    {
     "name": "stdout",
     "output_type": "stream",
     "text": [
      "Epoch: 1, Train loss: 0.26518, Val loss: 0.25929\n",
      "Train\n",
      "('BinaryAUROC', 0.86056)\n",
      "('BinaryRecall', 0.1126)\n",
      "('BinaryPrecision', 0.5426)\n",
      "('BinaryF1Score', 0.1865)\n",
      "('BinaryAccuracy', 0.87918)\n",
      "\n",
      "Test\n",
      "('BinaryAUROC', 0.87454)\n",
      "('BinaryRecall', 0.12302)\n",
      "('BinaryPrecision', 0.55816)\n",
      "('BinaryF1Score', 0.20161)\n",
      "('BinaryAccuracy', 0.88016)\n",
      "\n"
     ]
    },
    {
     "name": "stderr",
     "output_type": "stream",
     "text": [
      "100%|██████████| 42694/42694 [03:23<00:00, 209.53it/s]\n"
     ]
    },
    {
     "name": "stdout",
     "output_type": "stream",
     "text": [
      "Epoch: 2, Train loss: 0.26231, Val loss: 0.25959\n",
      "Train\n",
      "('BinaryAUROC', 0.86499)\n",
      "('BinaryRecall', 0.11627)\n",
      "('BinaryPrecision', 0.54382)\n",
      "('BinaryF1Score', 0.19158)\n",
      "('BinaryAccuracy', 0.87931)\n",
      "\n",
      "Test\n",
      "('BinaryAUROC', 0.87463)\n",
      "('BinaryRecall', 0.14917)\n",
      "('BinaryPrecision', 0.54622)\n",
      "('BinaryF1Score', 0.23434)\n",
      "('BinaryAccuracy', 0.88011)\n",
      "\n"
     ]
    },
    {
     "name": "stderr",
     "output_type": "stream",
     "text": [
      "100%|██████████| 42694/42694 [03:24<00:00, 208.42it/s]\n"
     ]
    },
    {
     "name": "stdout",
     "output_type": "stream",
     "text": [
      "Epoch: 3, Train loss: 0.26200, Val loss: 0.26258\n",
      "Train\n",
      "('BinaryAUROC', 0.86547)\n",
      "('BinaryRecall', 0.11637)\n",
      "('BinaryPrecision', 0.54298)\n",
      "('BinaryF1Score', 0.19167)\n",
      "('BinaryAccuracy', 0.87927)\n",
      "\n",
      "Test\n",
      "('BinaryAUROC', 0.87448)\n",
      "('BinaryRecall', 0.15784)\n",
      "('BinaryPrecision', 0.5414)\n",
      "('BinaryF1Score', 0.24443)\n",
      "('BinaryAccuracy', 0.87997)\n",
      "\n"
     ]
    },
    {
     "name": "stderr",
     "output_type": "stream",
     "text": [
      "100%|██████████| 42694/42694 [03:20<00:00, 213.42it/s]\n"
     ]
    },
    {
     "name": "stdout",
     "output_type": "stream",
     "text": [
      "Epoch: 4, Train loss: 0.26186, Val loss: 0.25914\n",
      "Train\n",
      "('BinaryAUROC', 0.86564)\n",
      "('BinaryRecall', 0.1171)\n",
      "('BinaryPrecision', 0.54325)\n",
      "('BinaryF1Score', 0.19266)\n",
      "('BinaryAccuracy', 0.8793)\n",
      "\n",
      "Test\n",
      "('BinaryAUROC', 0.87476)\n",
      "('BinaryRecall', 0.12513)\n",
      "('BinaryPrecision', 0.55774)\n",
      "('BinaryF1Score', 0.2044)\n",
      "('BinaryAccuracy', 0.88019)\n",
      "\n",
      "CPU times: user 12min 23s, sys: 1min 14s, total: 13min 38s\n",
      "Wall time: 14min 13s\n"
     ]
    }
   ],
   "source": [
    "%%time\n",
    "PRINT_EVERY = 1\n",
    "\n",
    "for epoch in range(1, NUM_EPOCHS+1):\n",
    "    train_loss = train_epoch_fcnn(fcnn, optimizer, loss_fn, trainloader, altmetric=altmetric_train)\n",
    "    eval_loss = evaluate_fcnn(fcnn, loss_fn, evalloader, altmetric=altmetric_eval)\n",
    "    print((f\"Epoch: {epoch}, Train loss: {train_loss:.5f}, Val loss: {eval_loss:.5f}\"))\n",
    "\n",
    "    if ((epoch)%PRINT_EVERY==0):\n",
    "        print('Train')\n",
    "        for j in [(i, round(altmetric_train[i].compute().item(), 5))\n",
    "                  for i in altmetric_train.keys()]: print(j)\n",
    "        print()\n",
    "        print('Test')\n",
    "        for j in [(i, round(altmetric_eval[i].compute().item(), 5))\n",
    "                  for i in altmetric_eval.keys()]: print(j)\n",
    "        print()\n",
    "\n",
    "    altmetric_train.reset()\n",
    "    altmetric_eval.reset()\n",
    "    "
   ]
  },
  {
   "cell_type": "code",
   "execution_count": 23,
   "id": "c6491063-ed24-4988-bb6f-58c32b167f04",
   "metadata": {},
   "outputs": [],
   "source": [
    "# with open(PATH+'pipeline', 'wb') as fp:\n",
    "#     pickle.dump(pipeline, fp)"
   ]
  },
  {
   "cell_type": "code",
   "execution_count": 24,
   "id": "83042e1c-2df3-40bc-ab4d-1c5a331e626e",
   "metadata": {},
   "outputs": [],
   "source": [
    "# with open(PATH+'embeddings', 'wb') as fp:\n",
    "#     pickle.dump(fcnn.embeddings, fp)"
   ]
  },
  {
   "cell_type": "code",
   "execution_count": null,
   "id": "92833c8d-d60a-4bdc-9316-0b840da69fa1",
   "metadata": {},
   "outputs": [],
   "source": []
  },
  {
   "cell_type": "markdown",
   "id": "821a6e92-0d39-4506-bf79-7dcd41a80ad0",
   "metadata": {
    "jp-MarkdownHeadingCollapsed": true
   },
   "source": [
    "##### FCNNet optuna"
   ]
  },
  {
   "cell_type": "code",
   "execution_count": 24,
   "id": "a533fe02-769a-4d14-944f-7ef5adf05eed",
   "metadata": {},
   "outputs": [],
   "source": [
    "# df_train_train, df_train_eval = train_test_split(df_train, test_size=EVAL_SIZE, random_state=SEED,\n",
    "#                                                  shuffle=True, stratify=df_train[target])\n",
    "\n",
    "# dataset_train = Base_Dataset(df_train_train)\n",
    "# dataset_eval = Base_Dataset(df_train_eval, is_eval=True)"
   ]
  },
  {
   "cell_type": "code",
   "execution_count": 25,
   "id": "1757a556-8624-4d7c-a7bb-222367ee447c",
   "metadata": {},
   "outputs": [],
   "source": [
    "ACTIVATIONS = {'ReLU': nn.ReLU,\n",
    "               'SELU': nn.SELU,\n",
    "               'GELU': nn.GELU,\n",
    "               'RReLU': nn.RReLU,\n",
    "               'SiLU': nn.SiLU,\n",
    "               'LeakyReLU': nn.LeakyReLU,\n",
    "               'IDENTITY': nn.Identity,\n",
    "              }\n",
    "\n",
    "def objective(trial):\n",
    "\n",
    "    # model's params\n",
    "    EMB_0, EMB_1, EMB_2, EMB_3 = trial.suggest_int('EMB_0', 7, 15, step=1),\\\n",
    "                                 trial.suggest_int('EMB_1', 2, 3, step=1),\\\n",
    "                                 trial.suggest_int('EMB_2', 23, 27, step=1),\\\n",
    "                                 trial.suggest_int('EMB_3', 17, 23, step=1)\n",
    "    INPUT_DIM = 6+EMB_0+EMB_1+EMB_2+EMB_3\n",
    "    LAYERS_NUM = 0 #trial.suggest_int('LAYERS_NUM', 0, 4, step=1) #4\n",
    "    LAYERS_DIM = 192 #trial.suggest_int('LAYERS_DIM', 128, 384, step=64) #64\n",
    "    ACTIVATION_OPTIONS = 'ReLU' #trial.suggest_categorical('ACTIVATION', ['ReLU', 'SELU', 'GELU', 'RReLU'])\n",
    "    ACTIVATION = ACTIVATIONS[ACTIVATION_OPTIONS]\n",
    "    EMB_SZS = [(53, EMB_0), (3, EMB_1), (123, EMB_2), (290, EMB_3)]\n",
    "    DROPOUT = 0.15 #trial.suggest_float('DROPOUT', 0, 0.2)\n",
    "    \n",
    "    # learning params\n",
    "    NUM_EPOCHS = trial.suggest_int('NUM_EPOCHS', 16, 64, step=8)\n",
    "    BATCH_SIZE = 6144 #trial.suggest_int('BATCH_SIZE', 2048, 8192, step=2048) #2048\n",
    "    LR = trial.suggest_float('LR', 7e-4, 3e-3, log=True)\n",
    "    WEIGHT_DECAY = trial.suggest_float('WEIGHT_DECAY', 1e-4, 1e-3, log=True)\n",
    "    # POS_WEIGHT = trial.suggest_float('POS_WEIGHT', 1/4, 8, log=True)\n",
    "    \n",
    "    fcnn = FCNNet(input_dim=INPUT_DIM,\n",
    "                  layers_num=LAYERS_NUM,\n",
    "                  layers_dim=LAYERS_DIM,\n",
    "                  activation=ACTIVATION,\n",
    "                  emb_szs=EMB_SZS,\n",
    "                  dropout=DROPOUT\n",
    "                  )\n",
    "    # altmetric_train = MetricCollection([AUROC(task='binary'),\n",
    "    #                                     # Recall(task='binary'),\n",
    "    #                                     # Precision(task='binary'),\n",
    "    #                                     # F1Score(task='binary'),\n",
    "    #                                     # Accuracy(task='binary')\n",
    "    #                                    ])\n",
    "    altmetric_eval = MetricCollection([AUROC(task='binary'),\n",
    "                                       # Recall(task='binary'),\n",
    "                                       # Precision(task='binary'),\n",
    "                                       # F1Score(task='binary'),\n",
    "                                       # Accuracy(task='binary')\n",
    "                                      ])\n",
    "    \n",
    "    fcnn.to(DEVICE)\n",
    "    # altmetric_train.to(DEVICE)\n",
    "    altmetric_eval.to(DEVICE)\n",
    "    \n",
    "    trainloader = torch.utils.data.DataLoader(dataset_train,\n",
    "                                              batch_size=BATCH_SIZE, shuffle=True,\n",
    "                                              num_workers=8, drop_last=False)\n",
    "    evalloader = torch.utils.data.DataLoader(dataset_eval,\n",
    "                                             batch_size=BATCH_SIZE, shuffle=True,\n",
    "                                             num_workers=8, drop_last=False)\n",
    "    \n",
    "    loss_fn = nn.BCEWithLogitsLoss(\n",
    "        # pos_weight=torch.Tensor([POS_WEIGHT]).to(DEVICE)\n",
    "    )\n",
    "    optimizer = torch.optim.AdamW(fcnn.parameters(), lr=LR, weight_decay=WEIGHT_DECAY)\n",
    "\n",
    "    for epoch in range(1, NUM_EPOCHS+1):\n",
    "        train_loss = train_epoch_fcnn(fcnn, optimizer, loss_fn, trainloader)\n",
    "        \n",
    "        if ((epoch)%4==0):\n",
    "            eval_loss = evaluate_fcnn(fcnn, loss_fn, evalloader, altmetric=altmetric_eval)\n",
    "            intermid_value = altmetric_eval['BinaryAUROC'].compute().item()\n",
    "            # trial.report(eval_loss, epoch)\n",
    "            trial.report(intermid_value, epoch)\n",
    "            altmetric_eval.reset()\n",
    "            if trial.should_prune():\n",
    "                raise optuna.TrialPruned()\n",
    "\n",
    "    eval_loss = evaluate_fcnn(fcnn, loss_fn, evalloader, altmetric=altmetric_eval)\n",
    "\n",
    "    torch.cuda.empty_cache()\n",
    "    gc.collect()\n",
    "    # return eval_loss\n",
    "    return altmetric_eval['BinaryAUROC'].compute().item()"
   ]
  },
  {
   "cell_type": "code",
   "execution_count": 26,
   "id": "4c5e48a7-38d0-49c8-9645-e4345fcd954b",
   "metadata": {
    "scrolled": true
   },
   "outputs": [],
   "source": [
    "# sampler = optuna.samplers.TPESampler(seed=SEED)\n",
    "# # storage = optuna.storages.InMemoryStorage()\n",
    "\n",
    "# study = optuna.create_study(direction='maximize', sampler=sampler,\n",
    "#                             study_name='fcnn-study_auc3', storage='sqlite:///fcnn-study_bce.db', load_if_exists=True,\n",
    "#                             pruner=optuna.pruners.MedianPruner(n_startup_trials=16,\n",
    "#                                                                n_warmup_steps=16)\n",
    "#                            )\n",
    "# study.optimize(objective, n_trials=100)\n"
   ]
  },
  {
   "cell_type": "markdown",
   "id": "25c1634e-0ac9-4acb-a039-0cf908a5933c",
   "metadata": {
    "jp-MarkdownHeadingCollapsed": true
   },
   "source": [
    "#### Submission"
   ]
  },
  {
   "cell_type": "code",
   "execution_count": 105,
   "id": "127cf43a-476c-4f9b-b816-e77502108907",
   "metadata": {},
   "outputs": [
    {
     "data": {
      "text/plain": [
       "FCNNet(\n",
       "  (embedder): CosEmb(\n",
       "    (embeddings): ModuleList(\n",
       "      (0): Embedding(53, 20)\n",
       "      (1): Embedding(3, 2)\n",
       "      (2): Embedding(123, 20)\n",
       "      (3): Embedding(290, 40)\n",
       "    )\n",
       "    (fc): Sequential(\n",
       "      (0): BatchNorm1d(88, eps=1e-05, momentum=0.1, affine=True, track_running_stats=True)\n",
       "      (1): Linear(in_features=88, out_features=512, bias=True)\n",
       "      (2): BatchNorm1d(512, eps=1e-05, momentum=0.1, affine=True, track_running_stats=True)\n",
       "      (3): RReLU(lower=0.125, upper=0.3333333333333333)\n",
       "      (4): Dropout(p=0.15, inplace=False)\n",
       "      (5): Linear(in_features=512, out_features=512, bias=True)\n",
       "      (6): BatchNorm1d(512, eps=1e-05, momentum=0.1, affine=True, track_running_stats=True)\n",
       "      (7): RReLU(lower=0.125, upper=0.3333333333333333)\n",
       "      (8): Dropout(p=0.15, inplace=False)\n",
       "      (9): Linear(in_features=512, out_features=512, bias=True)\n",
       "    )\n",
       "  )\n",
       "  (fc_layers): Sequential(\n",
       "    (0): BatchNorm1d(512, eps=1e-05, momentum=0.1, affine=True, track_running_stats=True)\n",
       "    (1): RReLU(lower=0.125, upper=0.3333333333333333)\n",
       "    (2): Dropout(p=0.0, inplace=False)\n",
       "    (3): Linear(in_features=512, out_features=1, bias=True)\n",
       "  )\n",
       ")"
      ]
     },
     "execution_count": 105,
     "metadata": {},
     "output_type": "execute_result"
    }
   ],
   "source": [
    "final_model = fcnn\n",
    "final_model.eval()"
   ]
  },
  {
   "cell_type": "code",
   "execution_count": 106,
   "id": "4b7238f8-bf3a-404a-8a41-efa870dd81f4",
   "metadata": {
    "scrolled": true
   },
   "outputs": [],
   "source": [
    "BATCH_SIZE = 1024*4\n",
    "\n",
    "preds = []\n",
    "batches = (-(-len(dataset_test)//BATCH_SIZE))\n",
    "index_start = 0\n",
    "index_end = BATCH_SIZE\n",
    "\n",
    "for batch in range(0, batches):\n",
    "    X, y = dataset_test[index_start:index_end]\n",
    "    X = torch.Tensor(X).to(DEVICE)\n",
    "    pred = torch.nn.functional.sigmoid(final_model(X)).cpu().detach().numpy()\n",
    "    preds.append(pred)\n",
    "    index_start = index_end\n",
    "    index_end += BATCH_SIZE\n",
    "\n",
    "preds = np.concatenate(preds, axis=0)"
   ]
  },
  {
   "cell_type": "code",
   "execution_count": 107,
   "id": "0bde0425-778b-4d41-8967-c179ff1d1833",
   "metadata": {},
   "outputs": [
    {
     "name": "stdout",
     "output_type": "stream",
     "text": [
      "<class 'pandas.core.frame.DataFrame'>\n",
      "RangeIndex: 7669866 entries, 0 to 7669865\n",
      "Data columns (total 2 columns):\n",
      " #   Column    Dtype  \n",
      "---  ------    -----  \n",
      " 0   id        int64  \n",
      " 1   Response  float64\n",
      "dtypes: float64(1), int64(1)\n",
      "memory usage: 117.0 MB\n"
     ]
    },
    {
     "data": {
      "text/plain": [
       "None"
      ]
     },
     "metadata": {},
     "output_type": "display_data"
    },
    {
     "data": {
      "text/html": [
       "<div>\n",
       "<style scoped>\n",
       "    .dataframe tbody tr th:only-of-type {\n",
       "        vertical-align: middle;\n",
       "    }\n",
       "\n",
       "    .dataframe tbody tr th {\n",
       "        vertical-align: top;\n",
       "    }\n",
       "\n",
       "    .dataframe thead th {\n",
       "        text-align: right;\n",
       "    }\n",
       "</style>\n",
       "<table border=\"1\" class=\"dataframe\">\n",
       "  <thead>\n",
       "    <tr style=\"text-align: right;\">\n",
       "      <th></th>\n",
       "      <th>id</th>\n",
       "      <th>Response</th>\n",
       "    </tr>\n",
       "  </thead>\n",
       "  <tbody>\n",
       "    <tr>\n",
       "      <th>0</th>\n",
       "      <td>11504798</td>\n",
       "      <td>0.5</td>\n",
       "    </tr>\n",
       "    <tr>\n",
       "      <th>1</th>\n",
       "      <td>11504799</td>\n",
       "      <td>0.5</td>\n",
       "    </tr>\n",
       "    <tr>\n",
       "      <th>2</th>\n",
       "      <td>11504800</td>\n",
       "      <td>0.5</td>\n",
       "    </tr>\n",
       "    <tr>\n",
       "      <th>3</th>\n",
       "      <td>11504801</td>\n",
       "      <td>0.5</td>\n",
       "    </tr>\n",
       "    <tr>\n",
       "      <th>4</th>\n",
       "      <td>11504802</td>\n",
       "      <td>0.5</td>\n",
       "    </tr>\n",
       "  </tbody>\n",
       "</table>\n",
       "</div>"
      ],
      "text/plain": [
       "         id  Response\n",
       "0  11504798       0.5\n",
       "1  11504799       0.5\n",
       "2  11504800       0.5\n",
       "3  11504801       0.5\n",
       "4  11504802       0.5"
      ]
     },
     "metadata": {},
     "output_type": "display_data"
    }
   ],
   "source": [
    "sub = pd.read_csv(PATH+'sample_submission.csv')\n",
    "display(sub.info())\n",
    "display(sub.head())"
   ]
  },
  {
   "cell_type": "code",
   "execution_count": 108,
   "id": "d13929f8-96c7-4f56-806e-2fea0df8f3e8",
   "metadata": {},
   "outputs": [],
   "source": [
    "sub.loc[:, 'Response'] = preds"
   ]
  },
  {
   "cell_type": "code",
   "execution_count": 109,
   "id": "2b950888-6683-402c-9360-437b1a3a625f",
   "metadata": {},
   "outputs": [],
   "source": [
    "sub.to_csv(PATH+'submission.csv', index=False)"
   ]
  },
  {
   "cell_type": "code",
   "execution_count": null,
   "id": "0d33dcf1-da98-4bca-a470-6aa3634337a7",
   "metadata": {},
   "outputs": [],
   "source": []
  }
 ],
 "metadata": {
  "kernelspec": {
   "display_name": "Python 3 (ipykernel)",
   "language": "python",
   "name": "python3"
  },
  "language_info": {
   "codemirror_mode": {
    "name": "ipython",
    "version": 3
   },
   "file_extension": ".py",
   "mimetype": "text/x-python",
   "name": "python",
   "nbconvert_exporter": "python",
   "pygments_lexer": "ipython3",
   "version": "3.11.9"
  }
 },
 "nbformat": 4,
 "nbformat_minor": 5
}
